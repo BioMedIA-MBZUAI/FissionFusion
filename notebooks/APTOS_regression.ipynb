{
 "cells": [
  {
   "cell_type": "code",
   "execution_count": 1,
   "metadata": {},
   "outputs": [],
   "source": [
    "import cv2\n",
    "import matplotlib.pyplot as plt\n",
    "from os.path import isfile\n",
    "import torch\n",
    "import torch.nn as nn\n",
    "import numpy as np\n",
    "import pandas as pd \n",
    "import os\n",
    "from PIL import Image, ImageFilter\n",
    "from sklearn.model_selection import train_test_split, StratifiedKFold\n",
    "from torch.utils.data import Dataset\n",
    "from torchvision import transforms\n",
    "from torch.optim import Adam, SGD, RMSprop\n",
    "import time\n",
    "from torch.autograd import Variable\n",
    "import torch.functional as F\n",
    "from tqdm import tqdm\n",
    "from sklearn import metrics\n",
    "import urllib\n",
    "import pickle\n",
    "import cv2\n",
    "import torch.nn.functional as F\n",
    "from torch.nn.parameter import Parameter\n",
    "from torchvision import models\n",
    "import seaborn as sns\n",
    "import random\n",
    "import sys\n",
    "import gc\n",
    "\n",
    "LR = 1e-4\n",
    "BATCH_SIZE = 32\n",
    "EPOCHS = 20\n",
    "device = 'cuda'"
   ]
  },
  {
   "cell_type": "code",
   "execution_count": 2,
   "metadata": {},
   "outputs": [
    {
     "name": "stdout",
     "output_type": "stream",
     "text": [
      "['./dataset/224_data/DR/aptos/', './dataset/224_data/DR/aptos/aptos_dataset_splits.csv']\n",
      "APTOS 2929 366 367\n"
     ]
    }
   ],
   "source": [
    "from dataset import RSNADataset, HAM10000Dataset,AptosDataset\n",
    "from utils.utils import EarlyStopper, get_dataset\n",
    "\n",
    "\n",
    "train_loader, val_loader, test_loader = get_dataset('APTOS','./dataset/224_data/DR/aptos/\"\"./dataset/224_data/DR/aptos/aptos_dataset_splits.csv', \"Minimal\", \"ImageNet\", 224, BATCH_SIZE, 12)\n"
   ]
  },
  {
   "cell_type": "code",
   "execution_count": 3,
   "metadata": {},
   "outputs": [],
   "source": [
    "model = models.resnet50(pretrained = True)\n",
    "model.fc = nn.Linear(in_features=2048, out_features=1, bias=True)\n",
    "# model.avgpool = GeM()\n",
    "model.to('cuda')\n",
    "\n",
    "criterion = nn.SmoothL1Loss()\n",
    "optimizer = torch.optim.Adam(model.parameters(), lr = LR, weight_decay=1e-5)\n",
    "scheduler = torch.optim.lr_scheduler.CosineAnnealingWarmRestarts(optimizer, T_0 = 50, T_mult=1, eta_min=0, last_epoch=- 1, verbose=False)"
   ]
  },
  {
   "cell_type": "code",
   "execution_count": 4,
   "metadata": {},
   "outputs": [
    {
     "name": "stderr",
     "output_type": "stream",
     "text": [
      "100%|██████████| 92/92 [00:15<00:00,  5.85it/s]\n",
      "100%|██████████| 12/12 [00:01<00:00,  6.16it/s]\n"
     ]
    },
    {
     "name": "stdout",
     "output_type": "stream",
     "text": [
      "Epoch : 1\n",
      "Training loss : 0.23667213255944458\n",
      "Valid loss : 0.13165513860682646\n"
     ]
    },
    {
     "name": "stderr",
     "output_type": "stream",
     "text": [
      "100%|██████████| 92/92 [00:14<00:00,  6.14it/s]\n",
      "100%|██████████| 12/12 [00:02<00:00,  5.98it/s]\n"
     ]
    },
    {
     "name": "stdout",
     "output_type": "stream",
     "text": [
      "Epoch : 2\n",
      "Training loss : 0.14806267882332855\n",
      "Valid loss : 0.12503096585472426\n"
     ]
    },
    {
     "name": "stderr",
     "output_type": "stream",
     "text": [
      "100%|██████████| 92/92 [00:14<00:00,  6.15it/s]\n",
      "100%|██████████| 12/12 [00:01<00:00,  6.19it/s]\n"
     ]
    },
    {
     "name": "stdout",
     "output_type": "stream",
     "text": [
      "Epoch : 3\n",
      "Training loss : 0.10985288886434358\n",
      "Valid loss : 0.14631793710092703\n"
     ]
    },
    {
     "name": "stderr",
     "output_type": "stream",
     "text": [
      "100%|██████████| 92/92 [00:14<00:00,  6.22it/s]\n",
      "100%|██████████| 12/12 [00:02<00:00,  5.87it/s]\n"
     ]
    },
    {
     "name": "stdout",
     "output_type": "stream",
     "text": [
      "Epoch : 4\n",
      "Training loss : 0.08954839355757703\n",
      "Valid loss : 0.19305822253227234\n"
     ]
    },
    {
     "name": "stderr",
     "output_type": "stream",
     "text": [
      "100%|██████████| 92/92 [00:14<00:00,  6.16it/s]\n",
      "100%|██████████| 12/12 [00:01<00:00,  6.13it/s]\n"
     ]
    },
    {
     "name": "stdout",
     "output_type": "stream",
     "text": [
      "Epoch : 5\n",
      "Training loss : 0.07479975595260444\n",
      "Valid loss : 0.14111589019497237\n"
     ]
    },
    {
     "name": "stderr",
     "output_type": "stream",
     "text": [
      "100%|██████████| 92/92 [00:15<00:00,  6.12it/s]\n",
      "100%|██████████| 12/12 [00:01<00:00,  6.18it/s]\n"
     ]
    },
    {
     "name": "stdout",
     "output_type": "stream",
     "text": [
      "Epoch : 6\n",
      "Training loss : 0.08349740760319907\n",
      "Valid loss : 0.13162813956538835\n"
     ]
    },
    {
     "name": "stderr",
     "output_type": "stream",
     "text": [
      "100%|██████████| 92/92 [00:14<00:00,  6.13it/s]\n",
      "100%|██████████| 12/12 [00:02<00:00,  5.31it/s]\n"
     ]
    },
    {
     "name": "stdout",
     "output_type": "stream",
     "text": [
      "Epoch : 7\n",
      "Training loss : 0.06331894243055064\n",
      "Valid loss : 0.11893960429976384\n"
     ]
    },
    {
     "name": "stderr",
     "output_type": "stream",
     "text": [
      "100%|██████████| 92/92 [00:15<00:00,  5.87it/s]\n",
      "100%|██████████| 12/12 [00:01<00:00,  6.05it/s]\n"
     ]
    },
    {
     "name": "stdout",
     "output_type": "stream",
     "text": [
      "Epoch : 8\n",
      "Training loss : 0.04632210629263326\n",
      "Valid loss : 0.12992566265165806\n"
     ]
    },
    {
     "name": "stderr",
     "output_type": "stream",
     "text": [
      "100%|██████████| 92/92 [00:15<00:00,  6.12it/s]\n",
      "100%|██████████| 12/12 [00:02<00:00,  5.54it/s]\n"
     ]
    },
    {
     "name": "stdout",
     "output_type": "stream",
     "text": [
      "Epoch : 9\n",
      "Training loss : 0.0448801852459007\n",
      "Valid loss : 0.13053870821992555\n"
     ]
    },
    {
     "name": "stderr",
     "output_type": "stream",
     "text": [
      "100%|██████████| 92/92 [00:15<00:00,  6.06it/s]\n",
      "100%|██████████| 12/12 [00:02<00:00,  5.89it/s]\n"
     ]
    },
    {
     "name": "stdout",
     "output_type": "stream",
     "text": [
      "Epoch : 10\n",
      "Training loss : 0.03736637619769444\n",
      "Valid loss : 0.13180532616873583\n"
     ]
    },
    {
     "name": "stderr",
     "output_type": "stream",
     "text": [
      "100%|██████████| 92/92 [00:15<00:00,  6.13it/s]\n",
      "100%|██████████| 12/12 [00:02<00:00,  5.27it/s]\n"
     ]
    },
    {
     "name": "stdout",
     "output_type": "stream",
     "text": [
      "Epoch : 11\n",
      "Training loss : 0.03696447136083051\n",
      "Valid loss : 0.15782898788650832\n"
     ]
    },
    {
     "name": "stderr",
     "output_type": "stream",
     "text": [
      "100%|██████████| 92/92 [00:15<00:00,  6.00it/s]\n",
      "100%|██████████| 12/12 [00:02<00:00,  5.77it/s]\n"
     ]
    },
    {
     "name": "stdout",
     "output_type": "stream",
     "text": [
      "Epoch : 12\n",
      "Training loss : 0.038873450982424874\n",
      "Valid loss : 0.15828306476275125\n"
     ]
    },
    {
     "name": "stderr",
     "output_type": "stream",
     "text": [
      "100%|██████████| 92/92 [00:15<00:00,  6.03it/s]\n",
      "100%|██████████| 12/12 [00:02<00:00,  5.55it/s]\n"
     ]
    },
    {
     "name": "stdout",
     "output_type": "stream",
     "text": [
      "Epoch : 13\n",
      "Training loss : 0.03166820416631906\n",
      "Valid loss : 0.12167901545763016\n"
     ]
    },
    {
     "name": "stderr",
     "output_type": "stream",
     "text": [
      "100%|██████████| 92/92 [00:15<00:00,  6.02it/s]\n",
      "100%|██████████| 12/12 [00:01<00:00,  6.02it/s]\n"
     ]
    },
    {
     "name": "stdout",
     "output_type": "stream",
     "text": [
      "Epoch : 14\n",
      "Training loss : 0.02755680994090179\n",
      "Valid loss : 0.12923593260347843\n"
     ]
    },
    {
     "name": "stderr",
     "output_type": "stream",
     "text": [
      "100%|██████████| 92/92 [00:15<00:00,  6.11it/s]\n",
      "100%|██████████| 12/12 [00:02<00:00,  5.96it/s]\n"
     ]
    },
    {
     "name": "stdout",
     "output_type": "stream",
     "text": [
      "Epoch : 15\n",
      "Training loss : 0.027013798553051183\n",
      "Valid loss : 0.13195241739352545\n"
     ]
    },
    {
     "name": "stderr",
     "output_type": "stream",
     "text": [
      "100%|██████████| 92/92 [00:14<00:00,  6.14it/s]\n",
      "100%|██████████| 12/12 [00:01<00:00,  6.07it/s]\n"
     ]
    },
    {
     "name": "stdout",
     "output_type": "stream",
     "text": [
      "Epoch : 16\n",
      "Training loss : 0.02981575129999091\n",
      "Valid loss : 0.14063199485341707\n"
     ]
    },
    {
     "name": "stderr",
     "output_type": "stream",
     "text": [
      "100%|██████████| 92/92 [00:14<00:00,  6.15it/s]\n",
      "100%|██████████| 12/12 [00:02<00:00,  5.72it/s]\n"
     ]
    },
    {
     "name": "stdout",
     "output_type": "stream",
     "text": [
      "Epoch : 17\n",
      "Training loss : 0.023734526946614293\n",
      "Valid loss : 0.12837848936518034\n"
     ]
    },
    {
     "name": "stderr",
     "output_type": "stream",
     "text": [
      "100%|██████████| 92/92 [00:15<00:00,  6.13it/s]\n",
      "100%|██████████| 12/12 [00:02<00:00,  5.66it/s]\n"
     ]
    },
    {
     "name": "stdout",
     "output_type": "stream",
     "text": [
      "Epoch : 18\n",
      "Training loss : 0.01879420570280079\n",
      "Valid loss : 0.13580494249860445\n"
     ]
    },
    {
     "name": "stderr",
     "output_type": "stream",
     "text": [
      "100%|██████████| 92/92 [00:15<00:00,  6.10it/s]\n",
      "100%|██████████| 12/12 [00:01<00:00,  6.05it/s]\n"
     ]
    },
    {
     "name": "stdout",
     "output_type": "stream",
     "text": [
      "Epoch : 19\n",
      "Training loss : 0.020374703074238547\n",
      "Valid loss : 0.13013203193744025\n"
     ]
    },
    {
     "name": "stderr",
     "output_type": "stream",
     "text": [
      "100%|██████████| 92/92 [00:15<00:00,  6.12it/s]\n",
      "100%|██████████| 12/12 [00:01<00:00,  6.23it/s]"
     ]
    },
    {
     "name": "stdout",
     "output_type": "stream",
     "text": [
      "Epoch : 20\n",
      "Training loss : 0.021195768540644127\n",
      "Valid loss : 0.12226242199540138\n"
     ]
    },
    {
     "name": "stderr",
     "output_type": "stream",
     "text": [
      "\n"
     ]
    }
   ],
   "source": [
    "best = 1e-10\n",
    "for i in range(1, EPOCHS + 1):\n",
    "    train_loss = []\n",
    "    val_loss = []\n",
    "\n",
    "    model.train()\n",
    "    for idx, (X_batch, y_batch) in enumerate(tqdm(train_loader)):\n",
    "        optimizer.zero_grad()\n",
    "        # print(y_batch)\n",
    "        X_batch = X_batch.to(device)\n",
    "        y_batch = y_batch.to(device)\n",
    "        output = model(X_batch)\n",
    "        loss = criterion(output.float(), y_batch.float())\n",
    "        train_loss.append(loss.item())\n",
    "        loss.backward()\n",
    "        optimizer.step()\n",
    "        scheduler.step()\n",
    "    model.eval()\n",
    "\n",
    "    for idx, (X_batch, y_batch) in enumerate(tqdm(val_loader)):\n",
    "        X_batch = X_batch.to(device)\n",
    "        y_batch = y_batch.to(device)\n",
    "        output = model(X_batch)\n",
    "        loss = criterion(output.float(), y_batch.float())\n",
    "        val_loss.append(loss.item())\n",
    "    avg_loss = np.mean(val_loss)\n",
    "    if avg_loss < best:\n",
    "        best = val_loss\n",
    "        torch.save(model.state_dict(), 'model.bin')\n",
    "    print(f'Epoch : {i}')\n",
    "    print(f'Training loss : {np.mean(train_loss)}')\n",
    "    print(f'Valid loss : {avg_loss}')"
   ]
  },
  {
   "cell_type": "code",
   "execution_count": 5,
   "metadata": {},
   "outputs": [
    {
     "name": "stderr",
     "output_type": "stream",
     "text": [
      "100%|██████████| 12/12 [00:01<00:00,  6.00it/s]\n"
     ]
    }
   ],
   "source": [
    "model.eval()\n",
    "y_pred = []\n",
    "y_true = []\n",
    "with torch.no_grad():\n",
    "    for (X, y) in tqdm(val_loader):\n",
    "        X = X.to(device)\n",
    "        output = model(X)\n",
    "        y_pred.extend(output)\n",
    "        y_true.extend(y)"
   ]
  },
  {
   "cell_type": "code",
   "execution_count": 6,
   "metadata": {},
   "outputs": [
    {
     "data": {
      "text/plain": [
       "[tensor([2.2935], device='cuda:0'),\n",
       " tensor([2.1443], device='cuda:0'),\n",
       " tensor([0.0589], device='cuda:0'),\n",
       " tensor([1.1116], device='cuda:0'),\n",
       " tensor([1.9158], device='cuda:0'),\n",
       " tensor([2.4935], device='cuda:0'),\n",
       " tensor([1.9972], device='cuda:0'),\n",
       " tensor([1.1767], device='cuda:0'),\n",
       " tensor([-0.0074], device='cuda:0'),\n",
       " tensor([1.5601], device='cuda:0'),\n",
       " tensor([1.7741], device='cuda:0'),\n",
       " tensor([1.5132], device='cuda:0'),\n",
       " tensor([3.1334], device='cuda:0'),\n",
       " tensor([0.1628], device='cuda:0'),\n",
       " tensor([0.0309], device='cuda:0'),\n",
       " tensor([2.2070], device='cuda:0'),\n",
       " tensor([0.3566], device='cuda:0'),\n",
       " tensor([-0.0318], device='cuda:0'),\n",
       " tensor([0.9992], device='cuda:0'),\n",
       " tensor([-0.0438], device='cuda:0'),\n",
       " tensor([0.0508], device='cuda:0'),\n",
       " tensor([0.0817], device='cuda:0'),\n",
       " tensor([0.0129], device='cuda:0'),\n",
       " tensor([1.7322], device='cuda:0'),\n",
       " tensor([0.0191], device='cuda:0'),\n",
       " tensor([1.6201], device='cuda:0'),\n",
       " tensor([0.9304], device='cuda:0'),\n",
       " tensor([0.0678], device='cuda:0'),\n",
       " tensor([2.3347], device='cuda:0'),\n",
       " tensor([3.5130], device='cuda:0'),\n",
       " tensor([-0.0321], device='cuda:0'),\n",
       " tensor([2.3736], device='cuda:0'),\n",
       " tensor([0.0207], device='cuda:0'),\n",
       " tensor([2.5622], device='cuda:0'),\n",
       " tensor([2.0173], device='cuda:0'),\n",
       " tensor([3.0888], device='cuda:0'),\n",
       " tensor([-0.0372], device='cuda:0'),\n",
       " tensor([4.0281], device='cuda:0'),\n",
       " tensor([1.0984], device='cuda:0'),\n",
       " tensor([1.9173], device='cuda:0'),\n",
       " tensor([-0.0399], device='cuda:0'),\n",
       " tensor([0.0196], device='cuda:0'),\n",
       " tensor([1.5558], device='cuda:0'),\n",
       " tensor([0.0046], device='cuda:0'),\n",
       " tensor([0.0420], device='cuda:0'),\n",
       " tensor([0.0672], device='cuda:0'),\n",
       " tensor([-0.0064], device='cuda:0'),\n",
       " tensor([0.0003], device='cuda:0'),\n",
       " tensor([-0.0284], device='cuda:0'),\n",
       " tensor([2.3429], device='cuda:0'),\n",
       " tensor([2.2220], device='cuda:0'),\n",
       " tensor([0.1215], device='cuda:0'),\n",
       " tensor([3.1733], device='cuda:0'),\n",
       " tensor([0.0412], device='cuda:0'),\n",
       " tensor([0.0164], device='cuda:0'),\n",
       " tensor([2.2678], device='cuda:0'),\n",
       " tensor([2.8257], device='cuda:0'),\n",
       " tensor([0.0371], device='cuda:0'),\n",
       " tensor([3.6942], device='cuda:0'),\n",
       " tensor([-0.0158], device='cuda:0'),\n",
       " tensor([2.1294], device='cuda:0'),\n",
       " tensor([0.0260], device='cuda:0'),\n",
       " tensor([-0.0153], device='cuda:0'),\n",
       " tensor([-0.0128], device='cuda:0'),\n",
       " tensor([0.1661], device='cuda:0'),\n",
       " tensor([2.1959], device='cuda:0'),\n",
       " tensor([1.2161], device='cuda:0'),\n",
       " tensor([0.0950], device='cuda:0'),\n",
       " tensor([0.0440], device='cuda:0'),\n",
       " tensor([0.0038], device='cuda:0'),\n",
       " tensor([0.0374], device='cuda:0'),\n",
       " tensor([1.7621], device='cuda:0'),\n",
       " tensor([2.3457], device='cuda:0'),\n",
       " tensor([1.8141], device='cuda:0'),\n",
       " tensor([-0.0373], device='cuda:0'),\n",
       " tensor([0.9154], device='cuda:0'),\n",
       " tensor([0.0511], device='cuda:0'),\n",
       " tensor([2.0542], device='cuda:0'),\n",
       " tensor([0.0137], device='cuda:0'),\n",
       " tensor([1.2506], device='cuda:0'),\n",
       " tensor([2.7437], device='cuda:0'),\n",
       " tensor([2.2973], device='cuda:0'),\n",
       " tensor([3.4498], device='cuda:0'),\n",
       " tensor([0.0508], device='cuda:0'),\n",
       " tensor([-0.0082], device='cuda:0'),\n",
       " tensor([-0.0145], device='cuda:0'),\n",
       " tensor([1.7184], device='cuda:0'),\n",
       " tensor([2.4168], device='cuda:0'),\n",
       " tensor([2.0636], device='cuda:0'),\n",
       " tensor([0.1348], device='cuda:0'),\n",
       " tensor([2.9873], device='cuda:0'),\n",
       " tensor([0.0573], device='cuda:0'),\n",
       " tensor([-0.0338], device='cuda:0'),\n",
       " tensor([1.5575], device='cuda:0'),\n",
       " tensor([2.0230], device='cuda:0'),\n",
       " tensor([3.4091], device='cuda:0'),\n",
       " tensor([1.4233e-05], device='cuda:0'),\n",
       " tensor([0.2028], device='cuda:0'),\n",
       " tensor([0.0465], device='cuda:0'),\n",
       " tensor([0.0393], device='cuda:0'),\n",
       " tensor([-0.0508], device='cuda:0'),\n",
       " tensor([2.3531], device='cuda:0'),\n",
       " tensor([1.8510], device='cuda:0'),\n",
       " tensor([0.0559], device='cuda:0'),\n",
       " tensor([0.1636], device='cuda:0'),\n",
       " tensor([0.1013], device='cuda:0'),\n",
       " tensor([0.1944], device='cuda:0'),\n",
       " tensor([0.0102], device='cuda:0'),\n",
       " tensor([-0.0337], device='cuda:0'),\n",
       " tensor([-0.0024], device='cuda:0'),\n",
       " tensor([-0.0040], device='cuda:0'),\n",
       " tensor([2.5137], device='cuda:0'),\n",
       " tensor([0.0370], device='cuda:0'),\n",
       " tensor([0.3071], device='cuda:0'),\n",
       " tensor([1.9596], device='cuda:0'),\n",
       " tensor([2.2209], device='cuda:0'),\n",
       " tensor([-0.0322], device='cuda:0'),\n",
       " tensor([4.1584], device='cuda:0'),\n",
       " tensor([1.9382], device='cuda:0'),\n",
       " tensor([0.0463], device='cuda:0'),\n",
       " tensor([0.0534], device='cuda:0'),\n",
       " tensor([2.1295], device='cuda:0'),\n",
       " tensor([1.4317], device='cuda:0'),\n",
       " tensor([0.0209], device='cuda:0'),\n",
       " tensor([2.3544], device='cuda:0'),\n",
       " tensor([-0.0279], device='cuda:0'),\n",
       " tensor([1.5198], device='cuda:0'),\n",
       " tensor([0.0866], device='cuda:0'),\n",
       " tensor([1.8987], device='cuda:0'),\n",
       " tensor([0.0049], device='cuda:0'),\n",
       " tensor([-0.0496], device='cuda:0'),\n",
       " tensor([1.5767], device='cuda:0'),\n",
       " tensor([1.0289], device='cuda:0'),\n",
       " tensor([0.0065], device='cuda:0'),\n",
       " tensor([0.0789], device='cuda:0'),\n",
       " tensor([2.8720], device='cuda:0'),\n",
       " tensor([2.0361], device='cuda:0'),\n",
       " tensor([-0.0088], device='cuda:0'),\n",
       " tensor([2.0506], device='cuda:0'),\n",
       " tensor([0.7372], device='cuda:0'),\n",
       " tensor([1.5437], device='cuda:0'),\n",
       " tensor([1.9609], device='cuda:0'),\n",
       " tensor([1.9184], device='cuda:0'),\n",
       " tensor([3.3315], device='cuda:0'),\n",
       " tensor([-0.0268], device='cuda:0'),\n",
       " tensor([3.0477], device='cuda:0'),\n",
       " tensor([0.0326], device='cuda:0'),\n",
       " tensor([2.2438], device='cuda:0'),\n",
       " tensor([1.9018], device='cuda:0'),\n",
       " tensor([0.5543], device='cuda:0'),\n",
       " tensor([-0.0247], device='cuda:0'),\n",
       " tensor([2.2708], device='cuda:0'),\n",
       " tensor([0.1185], device='cuda:0'),\n",
       " tensor([2.2953], device='cuda:0'),\n",
       " tensor([0.0591], device='cuda:0'),\n",
       " tensor([2.4472], device='cuda:0'),\n",
       " tensor([2.8473], device='cuda:0'),\n",
       " tensor([0.9336], device='cuda:0'),\n",
       " tensor([2.6273], device='cuda:0'),\n",
       " tensor([0.0399], device='cuda:0'),\n",
       " tensor([2.3341], device='cuda:0'),\n",
       " tensor([0.0986], device='cuda:0'),\n",
       " tensor([1.7510], device='cuda:0'),\n",
       " tensor([2.5332], device='cuda:0'),\n",
       " tensor([2.0213], device='cuda:0'),\n",
       " tensor([0.0114], device='cuda:0'),\n",
       " tensor([1.6450], device='cuda:0'),\n",
       " tensor([0.2102], device='cuda:0'),\n",
       " tensor([2.0724], device='cuda:0'),\n",
       " tensor([2.3717], device='cuda:0'),\n",
       " tensor([3.1575], device='cuda:0'),\n",
       " tensor([0.0406], device='cuda:0'),\n",
       " tensor([1.7469], device='cuda:0'),\n",
       " tensor([2.2346], device='cuda:0'),\n",
       " tensor([0.0100], device='cuda:0'),\n",
       " tensor([2.0021], device='cuda:0'),\n",
       " tensor([2.8838], device='cuda:0'),\n",
       " tensor([2.5991], device='cuda:0'),\n",
       " tensor([0.0518], device='cuda:0'),\n",
       " tensor([0.0706], device='cuda:0'),\n",
       " tensor([0.1019], device='cuda:0'),\n",
       " tensor([0.0391], device='cuda:0'),\n",
       " tensor([2.8331], device='cuda:0'),\n",
       " tensor([-0.0044], device='cuda:0'),\n",
       " tensor([-0.0345], device='cuda:0'),\n",
       " tensor([2.6700], device='cuda:0'),\n",
       " tensor([1.8749], device='cuda:0'),\n",
       " tensor([1.7037], device='cuda:0'),\n",
       " tensor([0.1284], device='cuda:0'),\n",
       " tensor([1.4250], device='cuda:0'),\n",
       " tensor([0.1921], device='cuda:0'),\n",
       " tensor([0.0982], device='cuda:0'),\n",
       " tensor([-0.0193], device='cuda:0'),\n",
       " tensor([1.3079], device='cuda:0'),\n",
       " tensor([0.0167], device='cuda:0'),\n",
       " tensor([2.4258], device='cuda:0'),\n",
       " tensor([2.5546], device='cuda:0'),\n",
       " tensor([0.1231], device='cuda:0'),\n",
       " tensor([2.0203], device='cuda:0'),\n",
       " tensor([1.9866], device='cuda:0'),\n",
       " tensor([2.9059], device='cuda:0'),\n",
       " tensor([1.8546], device='cuda:0'),\n",
       " tensor([1.7838], device='cuda:0'),\n",
       " tensor([0.0572], device='cuda:0'),\n",
       " tensor([0.0491], device='cuda:0'),\n",
       " tensor([-0.0237], device='cuda:0'),\n",
       " tensor([3.3318], device='cuda:0'),\n",
       " tensor([2.2295], device='cuda:0'),\n",
       " tensor([2.5112], device='cuda:0'),\n",
       " tensor([2.3045], device='cuda:0'),\n",
       " tensor([0.7351], device='cuda:0'),\n",
       " tensor([0.2638], device='cuda:0'),\n",
       " tensor([-0.0127], device='cuda:0'),\n",
       " tensor([3.4881], device='cuda:0'),\n",
       " tensor([-0.0158], device='cuda:0'),\n",
       " tensor([0.1076], device='cuda:0'),\n",
       " tensor([0.1533], device='cuda:0'),\n",
       " tensor([-0.0021], device='cuda:0'),\n",
       " tensor([2.0666], device='cuda:0'),\n",
       " tensor([1.6723], device='cuda:0'),\n",
       " tensor([1.2486], device='cuda:0'),\n",
       " tensor([1.9249], device='cuda:0'),\n",
       " tensor([0.0529], device='cuda:0'),\n",
       " tensor([0.1072], device='cuda:0'),\n",
       " tensor([-0.0208], device='cuda:0'),\n",
       " tensor([1.9567], device='cuda:0'),\n",
       " tensor([3.7681], device='cuda:0'),\n",
       " tensor([-0.0140], device='cuda:0'),\n",
       " tensor([0.0024], device='cuda:0'),\n",
       " tensor([0.0127], device='cuda:0'),\n",
       " tensor([0.7309], device='cuda:0'),\n",
       " tensor([2.4055], device='cuda:0'),\n",
       " tensor([2.8061], device='cuda:0'),\n",
       " tensor([2.2896], device='cuda:0'),\n",
       " tensor([-0.0009], device='cuda:0'),\n",
       " tensor([2.0016], device='cuda:0'),\n",
       " tensor([2.4779], device='cuda:0'),\n",
       " tensor([1.6642], device='cuda:0'),\n",
       " tensor([0.0311], device='cuda:0'),\n",
       " tensor([1.8627], device='cuda:0'),\n",
       " tensor([3.2806], device='cuda:0'),\n",
       " tensor([0.0599], device='cuda:0'),\n",
       " tensor([0.0366], device='cuda:0'),\n",
       " tensor([2.0302], device='cuda:0'),\n",
       " tensor([2.0061], device='cuda:0'),\n",
       " tensor([0.0952], device='cuda:0'),\n",
       " tensor([2.9398], device='cuda:0'),\n",
       " tensor([2.4939], device='cuda:0'),\n",
       " tensor([-0.0040], device='cuda:0'),\n",
       " tensor([-0.0095], device='cuda:0'),\n",
       " tensor([0.0459], device='cuda:0'),\n",
       " tensor([0.0396], device='cuda:0'),\n",
       " tensor([0.1066], device='cuda:0'),\n",
       " tensor([0.0896], device='cuda:0'),\n",
       " tensor([2.8616], device='cuda:0'),\n",
       " tensor([1.1651], device='cuda:0'),\n",
       " tensor([2.7939], device='cuda:0'),\n",
       " tensor([1.7353], device='cuda:0'),\n",
       " tensor([2.8846], device='cuda:0'),\n",
       " tensor([3.2870], device='cuda:0'),\n",
       " tensor([0.2313], device='cuda:0'),\n",
       " tensor([1.9176], device='cuda:0'),\n",
       " tensor([2.1818], device='cuda:0'),\n",
       " tensor([2.0498], device='cuda:0'),\n",
       " tensor([2.0446], device='cuda:0'),\n",
       " tensor([2.9397], device='cuda:0'),\n",
       " tensor([0.2294], device='cuda:0'),\n",
       " tensor([0.0336], device='cuda:0'),\n",
       " tensor([1.8412], device='cuda:0'),\n",
       " tensor([-0.0044], device='cuda:0'),\n",
       " tensor([1.7684], device='cuda:0'),\n",
       " tensor([0.0763], device='cuda:0'),\n",
       " tensor([0.0183], device='cuda:0'),\n",
       " tensor([3.7026], device='cuda:0'),\n",
       " tensor([1.5253], device='cuda:0'),\n",
       " tensor([0.0416], device='cuda:0'),\n",
       " tensor([2.3175], device='cuda:0'),\n",
       " tensor([-0.0231], device='cuda:0'),\n",
       " tensor([0.0034], device='cuda:0'),\n",
       " tensor([3.2622], device='cuda:0'),\n",
       " tensor([-0.0292], device='cuda:0'),\n",
       " tensor([1.9983], device='cuda:0'),\n",
       " tensor([-0.0172], device='cuda:0'),\n",
       " tensor([0.1349], device='cuda:0'),\n",
       " tensor([0.0795], device='cuda:0'),\n",
       " tensor([-0.0220], device='cuda:0'),\n",
       " tensor([3.2722], device='cuda:0'),\n",
       " tensor([3.5247], device='cuda:0'),\n",
       " tensor([0.0739], device='cuda:0'),\n",
       " tensor([0.0322], device='cuda:0'),\n",
       " tensor([0.0766], device='cuda:0'),\n",
       " tensor([-0.0051], device='cuda:0'),\n",
       " tensor([-0.0602], device='cuda:0'),\n",
       " tensor([1.2169], device='cuda:0'),\n",
       " tensor([0.0472], device='cuda:0'),\n",
       " tensor([0.0573], device='cuda:0'),\n",
       " tensor([1.9031], device='cuda:0'),\n",
       " tensor([0.0034], device='cuda:0'),\n",
       " tensor([0.0783], device='cuda:0'),\n",
       " tensor([0.9466], device='cuda:0'),\n",
       " tensor([1.1425], device='cuda:0'),\n",
       " tensor([0.0401], device='cuda:0'),\n",
       " tensor([0.0236], device='cuda:0'),\n",
       " tensor([2.9131], device='cuda:0'),\n",
       " tensor([1.1317], device='cuda:0'),\n",
       " tensor([0.1573], device='cuda:0'),\n",
       " tensor([-0.0012], device='cuda:0'),\n",
       " tensor([0.0485], device='cuda:0'),\n",
       " tensor([0.0565], device='cuda:0'),\n",
       " tensor([0.6123], device='cuda:0'),\n",
       " tensor([2.7038], device='cuda:0'),\n",
       " tensor([0.0460], device='cuda:0'),\n",
       " tensor([3.9959], device='cuda:0'),\n",
       " tensor([0.0250], device='cuda:0'),\n",
       " tensor([-0.0115], device='cuda:0'),\n",
       " tensor([0.0496], device='cuda:0'),\n",
       " tensor([1.6686], device='cuda:0'),\n",
       " tensor([2.5777], device='cuda:0'),\n",
       " tensor([1.6859], device='cuda:0'),\n",
       " tensor([0.0931], device='cuda:0'),\n",
       " tensor([2.0712], device='cuda:0'),\n",
       " tensor([3.5476], device='cuda:0'),\n",
       " tensor([0.8376], device='cuda:0'),\n",
       " tensor([0.0622], device='cuda:0'),\n",
       " tensor([1.5239], device='cuda:0'),\n",
       " tensor([2.3941], device='cuda:0'),\n",
       " tensor([0.1126], device='cuda:0'),\n",
       " tensor([0.0083], device='cuda:0'),\n",
       " tensor([0.0559], device='cuda:0'),\n",
       " tensor([0.1335], device='cuda:0'),\n",
       " tensor([-0.0272], device='cuda:0'),\n",
       " tensor([0.0506], device='cuda:0'),\n",
       " tensor([-0.0080], device='cuda:0'),\n",
       " tensor([0.0585], device='cuda:0'),\n",
       " tensor([-0.0095], device='cuda:0'),\n",
       " tensor([0.0960], device='cuda:0'),\n",
       " tensor([0.0841], device='cuda:0'),\n",
       " tensor([0.0440], device='cuda:0'),\n",
       " tensor([0.9435], device='cuda:0'),\n",
       " tensor([0.6824], device='cuda:0'),\n",
       " tensor([1.9097], device='cuda:0'),\n",
       " tensor([0.0134], device='cuda:0'),\n",
       " tensor([0.0471], device='cuda:0'),\n",
       " tensor([-0.0728], device='cuda:0'),\n",
       " tensor([1.3431], device='cuda:0'),\n",
       " tensor([0.6694], device='cuda:0'),\n",
       " tensor([1.6977], device='cuda:0'),\n",
       " tensor([0.1313], device='cuda:0'),\n",
       " tensor([2.0783], device='cuda:0'),\n",
       " tensor([0.0255], device='cuda:0'),\n",
       " tensor([1.8959], device='cuda:0'),\n",
       " tensor([0.0645], device='cuda:0'),\n",
       " tensor([1.1208], device='cuda:0'),\n",
       " tensor([0.0493], device='cuda:0'),\n",
       " tensor([2.9634], device='cuda:0'),\n",
       " tensor([2.8017], device='cuda:0'),\n",
       " tensor([0.0992], device='cuda:0'),\n",
       " tensor([0.7180], device='cuda:0'),\n",
       " tensor([2.6287], device='cuda:0'),\n",
       " tensor([1.1964], device='cuda:0'),\n",
       " tensor([0.0267], device='cuda:0'),\n",
       " tensor([0.1294], device='cuda:0'),\n",
       " tensor([1.7297], device='cuda:0'),\n",
       " tensor([0.0605], device='cuda:0'),\n",
       " tensor([0.0390], device='cuda:0'),\n",
       " tensor([0.1524], device='cuda:0')]"
      ]
     },
     "execution_count": 6,
     "metadata": {},
     "output_type": "execute_result"
    }
   ],
   "source": [
    "y_pred"
   ]
  },
  {
   "cell_type": "code",
   "execution_count": 7,
   "metadata": {},
   "outputs": [],
   "source": [
    "\n",
    "\n",
    "preds = []\n",
    "for val in y_pred:\n",
    "    preds.append(val.detach().tolist()[0])\n",
    "\n"
   ]
  },
  {
   "cell_type": "code",
   "execution_count": 8,
   "metadata": {},
   "outputs": [],
   "source": [
    "true = []\n",
    "for val in y_true:\n",
    "    true.append(val.detach().tolist()[0])"
   ]
  },
  {
   "cell_type": "code",
   "execution_count": 9,
   "metadata": {},
   "outputs": [
    {
     "name": "stdout",
     "output_type": "stream",
     "text": [
      "366 366\n"
     ]
    }
   ],
   "source": [
    "print(len(true), len(preds))"
   ]
  },
  {
   "cell_type": "code",
   "execution_count": 10,
   "metadata": {},
   "outputs": [],
   "source": [
    "predictions = pd.DataFrame(columns = ['y_true', 'y_pred'])\n",
    "predictions['y_true'] = true\n",
    "predictions['y_pred'] = preds\n"
   ]
  },
  {
   "cell_type": "code",
   "execution_count": 11,
   "metadata": {},
   "outputs": [
    {
     "data": {
      "text/html": [
       "<div>\n",
       "<style scoped>\n",
       "    .dataframe tbody tr th:only-of-type {\n",
       "        vertical-align: middle;\n",
       "    }\n",
       "\n",
       "    .dataframe tbody tr th {\n",
       "        vertical-align: top;\n",
       "    }\n",
       "\n",
       "    .dataframe thead th {\n",
       "        text-align: right;\n",
       "    }\n",
       "</style>\n",
       "<table border=\"1\" class=\"dataframe\">\n",
       "  <thead>\n",
       "    <tr style=\"text-align: right;\">\n",
       "      <th></th>\n",
       "      <th>y_true</th>\n",
       "      <th>y_pred</th>\n",
       "    </tr>\n",
       "  </thead>\n",
       "  <tbody>\n",
       "    <tr>\n",
       "      <th>0</th>\n",
       "      <td>2</td>\n",
       "      <td>2.293459</td>\n",
       "    </tr>\n",
       "    <tr>\n",
       "      <th>1</th>\n",
       "      <td>2</td>\n",
       "      <td>2.144251</td>\n",
       "    </tr>\n",
       "    <tr>\n",
       "      <th>2</th>\n",
       "      <td>0</td>\n",
       "      <td>0.058913</td>\n",
       "    </tr>\n",
       "    <tr>\n",
       "      <th>3</th>\n",
       "      <td>2</td>\n",
       "      <td>1.111601</td>\n",
       "    </tr>\n",
       "    <tr>\n",
       "      <th>4</th>\n",
       "      <td>2</td>\n",
       "      <td>1.915846</td>\n",
       "    </tr>\n",
       "    <tr>\n",
       "      <th>...</th>\n",
       "      <td>...</td>\n",
       "      <td>...</td>\n",
       "    </tr>\n",
       "    <tr>\n",
       "      <th>361</th>\n",
       "      <td>0</td>\n",
       "      <td>0.129442</td>\n",
       "    </tr>\n",
       "    <tr>\n",
       "      <th>362</th>\n",
       "      <td>2</td>\n",
       "      <td>1.729738</td>\n",
       "    </tr>\n",
       "    <tr>\n",
       "      <th>363</th>\n",
       "      <td>0</td>\n",
       "      <td>0.060487</td>\n",
       "    </tr>\n",
       "    <tr>\n",
       "      <th>364</th>\n",
       "      <td>0</td>\n",
       "      <td>0.039030</td>\n",
       "    </tr>\n",
       "    <tr>\n",
       "      <th>365</th>\n",
       "      <td>0</td>\n",
       "      <td>0.152384</td>\n",
       "    </tr>\n",
       "  </tbody>\n",
       "</table>\n",
       "<p>366 rows × 2 columns</p>\n",
       "</div>"
      ],
      "text/plain": [
       "     y_true    y_pred\n",
       "0         2  2.293459\n",
       "1         2  2.144251\n",
       "2         0  0.058913\n",
       "3         2  1.111601\n",
       "4         2  1.915846\n",
       "..      ...       ...\n",
       "361       0  0.129442\n",
       "362       2  1.729738\n",
       "363       0  0.060487\n",
       "364       0  0.039030\n",
       "365       0  0.152384\n",
       "\n",
       "[366 rows x 2 columns]"
      ]
     },
     "execution_count": 11,
     "metadata": {},
     "output_type": "execute_result"
    }
   ],
   "source": [
    "predictions"
   ]
  },
  {
   "cell_type": "code",
   "execution_count": 12,
   "metadata": {},
   "outputs": [
    {
     "data": {
      "text/html": [
       "<div>\n",
       "<style scoped>\n",
       "    .dataframe tbody tr th:only-of-type {\n",
       "        vertical-align: middle;\n",
       "    }\n",
       "\n",
       "    .dataframe tbody tr th {\n",
       "        vertical-align: top;\n",
       "    }\n",
       "\n",
       "    .dataframe thead th {\n",
       "        text-align: right;\n",
       "    }\n",
       "</style>\n",
       "<table border=\"1\" class=\"dataframe\">\n",
       "  <thead>\n",
       "    <tr style=\"text-align: right;\">\n",
       "      <th></th>\n",
       "      <th>count</th>\n",
       "      <th>mean</th>\n",
       "      <th>std</th>\n",
       "      <th>min</th>\n",
       "      <th>25%</th>\n",
       "      <th>50%</th>\n",
       "      <th>75%</th>\n",
       "      <th>max</th>\n",
       "    </tr>\n",
       "  </thead>\n",
       "  <tbody>\n",
       "    <tr>\n",
       "      <th>y_true</th>\n",
       "      <td>180.0</td>\n",
       "      <td>0.000000</td>\n",
       "      <td>0.000000</td>\n",
       "      <td>0.000000</td>\n",
       "      <td>0.000000</td>\n",
       "      <td>0.000000</td>\n",
       "      <td>0.000000</td>\n",
       "      <td>0.000000</td>\n",
       "    </tr>\n",
       "    <tr>\n",
       "      <th>y_pred</th>\n",
       "      <td>180.0</td>\n",
       "      <td>0.059453</td>\n",
       "      <td>0.130876</td>\n",
       "      <td>-0.072784</td>\n",
       "      <td>-0.004005</td>\n",
       "      <td>0.039171</td>\n",
       "      <td>0.077045</td>\n",
       "      <td>1.142484</td>\n",
       "    </tr>\n",
       "  </tbody>\n",
       "</table>\n",
       "</div>"
      ],
      "text/plain": [
       "        count      mean       std       min       25%       50%       75%  \\\n",
       "y_true  180.0  0.000000  0.000000  0.000000  0.000000  0.000000  0.000000   \n",
       "y_pred  180.0  0.059453  0.130876 -0.072784 -0.004005  0.039171  0.077045   \n",
       "\n",
       "             max  \n",
       "y_true  0.000000  \n",
       "y_pred  1.142484  "
      ]
     },
     "execution_count": 12,
     "metadata": {},
     "output_type": "execute_result"
    }
   ],
   "source": [
    "predictions[predictions['y_true'] == 0].describe().T"
   ]
  },
  {
   "cell_type": "code",
   "execution_count": 13,
   "metadata": {},
   "outputs": [
    {
     "data": {
      "text/html": [
       "<div>\n",
       "<style scoped>\n",
       "    .dataframe tbody tr th:only-of-type {\n",
       "        vertical-align: middle;\n",
       "    }\n",
       "\n",
       "    .dataframe tbody tr th {\n",
       "        vertical-align: top;\n",
       "    }\n",
       "\n",
       "    .dataframe thead th {\n",
       "        text-align: right;\n",
       "    }\n",
       "</style>\n",
       "<table border=\"1\" class=\"dataframe\">\n",
       "  <thead>\n",
       "    <tr style=\"text-align: right;\">\n",
       "      <th></th>\n",
       "      <th>count</th>\n",
       "      <th>mean</th>\n",
       "      <th>std</th>\n",
       "      <th>min</th>\n",
       "      <th>25%</th>\n",
       "      <th>50%</th>\n",
       "      <th>75%</th>\n",
       "      <th>max</th>\n",
       "    </tr>\n",
       "  </thead>\n",
       "  <tbody>\n",
       "    <tr>\n",
       "      <th>y_true</th>\n",
       "      <td>37.0</td>\n",
       "      <td>1.000000</td>\n",
       "      <td>0.000000</td>\n",
       "      <td>1.000000</td>\n",
       "      <td>1.000000</td>\n",
       "      <td>1.000000</td>\n",
       "      <td>1.000000</td>\n",
       "      <td>1.000000</td>\n",
       "    </tr>\n",
       "    <tr>\n",
       "      <th>y_pred</th>\n",
       "      <td>37.0</td>\n",
       "      <td>1.158972</td>\n",
       "      <td>0.514563</td>\n",
       "      <td>0.064508</td>\n",
       "      <td>0.915378</td>\n",
       "      <td>1.165117</td>\n",
       "      <td>1.519818</td>\n",
       "      <td>2.354398</td>\n",
       "    </tr>\n",
       "  </tbody>\n",
       "</table>\n",
       "</div>"
      ],
      "text/plain": [
       "        count      mean       std       min       25%       50%       75%  \\\n",
       "y_true   37.0  1.000000  0.000000  1.000000  1.000000  1.000000  1.000000   \n",
       "y_pred   37.0  1.158972  0.514563  0.064508  0.915378  1.165117  1.519818   \n",
       "\n",
       "             max  \n",
       "y_true  1.000000  \n",
       "y_pred  2.354398  "
      ]
     },
     "execution_count": 13,
     "metadata": {},
     "output_type": "execute_result"
    }
   ],
   "source": [
    "predictions[predictions['y_true'] == 1].describe().T"
   ]
  },
  {
   "cell_type": "code",
   "execution_count": 14,
   "metadata": {},
   "outputs": [
    {
     "data": {
      "text/html": [
       "<div>\n",
       "<style scoped>\n",
       "    .dataframe tbody tr th:only-of-type {\n",
       "        vertical-align: middle;\n",
       "    }\n",
       "\n",
       "    .dataframe tbody tr th {\n",
       "        vertical-align: top;\n",
       "    }\n",
       "\n",
       "    .dataframe thead th {\n",
       "        text-align: right;\n",
       "    }\n",
       "</style>\n",
       "<table border=\"1\" class=\"dataframe\">\n",
       "  <thead>\n",
       "    <tr style=\"text-align: right;\">\n",
       "      <th></th>\n",
       "      <th>count</th>\n",
       "      <th>mean</th>\n",
       "      <th>std</th>\n",
       "      <th>min</th>\n",
       "      <th>25%</th>\n",
       "      <th>50%</th>\n",
       "      <th>75%</th>\n",
       "      <th>max</th>\n",
       "    </tr>\n",
       "  </thead>\n",
       "  <tbody>\n",
       "    <tr>\n",
       "      <th>y_true</th>\n",
       "      <td>100.0</td>\n",
       "      <td>2.000000</td>\n",
       "      <td>0.000000</td>\n",
       "      <td>2.000000</td>\n",
       "      <td>2.00000</td>\n",
       "      <td>2.000000</td>\n",
       "      <td>2.000000</td>\n",
       "      <td>2.000000</td>\n",
       "    </tr>\n",
       "    <tr>\n",
       "      <th>y_pred</th>\n",
       "      <td>100.0</td>\n",
       "      <td>2.134732</td>\n",
       "      <td>0.565186</td>\n",
       "      <td>0.356645</td>\n",
       "      <td>1.84177</td>\n",
       "      <td>2.029556</td>\n",
       "      <td>2.347543</td>\n",
       "      <td>4.158382</td>\n",
       "    </tr>\n",
       "  </tbody>\n",
       "</table>\n",
       "</div>"
      ],
      "text/plain": [
       "        count      mean       std       min      25%       50%       75%  \\\n",
       "y_true  100.0  2.000000  0.000000  2.000000  2.00000  2.000000  2.000000   \n",
       "y_pred  100.0  2.134732  0.565186  0.356645  1.84177  2.029556  2.347543   \n",
       "\n",
       "             max  \n",
       "y_true  2.000000  \n",
       "y_pred  4.158382  "
      ]
     },
     "execution_count": 14,
     "metadata": {},
     "output_type": "execute_result"
    }
   ],
   "source": [
    "predictions[predictions['y_true'] == 2].describe().T"
   ]
  },
  {
   "cell_type": "code",
   "execution_count": 15,
   "metadata": {},
   "outputs": [
    {
     "data": {
      "text/html": [
       "<div>\n",
       "<style scoped>\n",
       "    .dataframe tbody tr th:only-of-type {\n",
       "        vertical-align: middle;\n",
       "    }\n",
       "\n",
       "    .dataframe tbody tr th {\n",
       "        vertical-align: top;\n",
       "    }\n",
       "\n",
       "    .dataframe thead th {\n",
       "        text-align: right;\n",
       "    }\n",
       "</style>\n",
       "<table border=\"1\" class=\"dataframe\">\n",
       "  <thead>\n",
       "    <tr style=\"text-align: right;\">\n",
       "      <th></th>\n",
       "      <th>count</th>\n",
       "      <th>mean</th>\n",
       "      <th>std</th>\n",
       "      <th>min</th>\n",
       "      <th>25%</th>\n",
       "      <th>50%</th>\n",
       "      <th>75%</th>\n",
       "      <th>max</th>\n",
       "    </tr>\n",
       "  </thead>\n",
       "  <tbody>\n",
       "    <tr>\n",
       "      <th>y_true</th>\n",
       "      <td>20.0</td>\n",
       "      <td>3.000000</td>\n",
       "      <td>0.000000</td>\n",
       "      <td>3.000000</td>\n",
       "      <td>3.000000</td>\n",
       "      <td>3.000000</td>\n",
       "      <td>3.000000</td>\n",
       "      <td>3.000000</td>\n",
       "    </tr>\n",
       "    <tr>\n",
       "      <th>y_pred</th>\n",
       "      <td>20.0</td>\n",
       "      <td>2.724277</td>\n",
       "      <td>0.460715</td>\n",
       "      <td>1.841188</td>\n",
       "      <td>2.402872</td>\n",
       "      <td>2.838879</td>\n",
       "      <td>3.099932</td>\n",
       "      <td>3.331756</td>\n",
       "    </tr>\n",
       "  </tbody>\n",
       "</table>\n",
       "</div>"
      ],
      "text/plain": [
       "        count      mean       std       min       25%       50%       75%  \\\n",
       "y_true   20.0  3.000000  0.000000  3.000000  3.000000  3.000000  3.000000   \n",
       "y_pred   20.0  2.724277  0.460715  1.841188  2.402872  2.838879  3.099932   \n",
       "\n",
       "             max  \n",
       "y_true  3.000000  \n",
       "y_pred  3.331756  "
      ]
     },
     "execution_count": 15,
     "metadata": {},
     "output_type": "execute_result"
    }
   ],
   "source": [
    "predictions[predictions['y_true'] == 3].describe().T"
   ]
  },
  {
   "cell_type": "code",
   "execution_count": 16,
   "metadata": {},
   "outputs": [
    {
     "data": {
      "text/html": [
       "<div>\n",
       "<style scoped>\n",
       "    .dataframe tbody tr th:only-of-type {\n",
       "        vertical-align: middle;\n",
       "    }\n",
       "\n",
       "    .dataframe tbody tr th {\n",
       "        vertical-align: top;\n",
       "    }\n",
       "\n",
       "    .dataframe thead th {\n",
       "        text-align: right;\n",
       "    }\n",
       "</style>\n",
       "<table border=\"1\" class=\"dataframe\">\n",
       "  <thead>\n",
       "    <tr style=\"text-align: right;\">\n",
       "      <th></th>\n",
       "      <th>count</th>\n",
       "      <th>mean</th>\n",
       "      <th>std</th>\n",
       "      <th>min</th>\n",
       "      <th>25%</th>\n",
       "      <th>50%</th>\n",
       "      <th>75%</th>\n",
       "      <th>max</th>\n",
       "    </tr>\n",
       "  </thead>\n",
       "  <tbody>\n",
       "    <tr>\n",
       "      <th>y_true</th>\n",
       "      <td>29.0</td>\n",
       "      <td>4.000000</td>\n",
       "      <td>0.00000</td>\n",
       "      <td>4.000000</td>\n",
       "      <td>4.000000</td>\n",
       "      <td>4.000000</td>\n",
       "      <td>4.000000</td>\n",
       "      <td>4.000000</td>\n",
       "    </tr>\n",
       "    <tr>\n",
       "      <th>y_pred</th>\n",
       "      <td>29.0</td>\n",
       "      <td>2.846631</td>\n",
       "      <td>0.62166</td>\n",
       "      <td>1.762093</td>\n",
       "      <td>2.394118</td>\n",
       "      <td>2.825711</td>\n",
       "      <td>3.409058</td>\n",
       "      <td>4.028105</td>\n",
       "    </tr>\n",
       "  </tbody>\n",
       "</table>\n",
       "</div>"
      ],
      "text/plain": [
       "        count      mean      std       min       25%       50%       75%  \\\n",
       "y_true   29.0  4.000000  0.00000  4.000000  4.000000  4.000000  4.000000   \n",
       "y_pred   29.0  2.846631  0.62166  1.762093  2.394118  2.825711  3.409058   \n",
       "\n",
       "             max  \n",
       "y_true  4.000000  \n",
       "y_pred  4.028105  "
      ]
     },
     "execution_count": 16,
     "metadata": {},
     "output_type": "execute_result"
    }
   ],
   "source": [
    "predictions[predictions['y_true'] == 4].describe().T"
   ]
  },
  {
   "cell_type": "code",
   "execution_count": 17,
   "metadata": {},
   "outputs": [],
   "source": [
    "coef = [0.5, 1.5, 2.5, 3.5]\n",
    "test_preds = []\n",
    "for i, pred in enumerate(predictions['y_pred'].values):\n",
    "    if pred < coef[0]:\n",
    "        test_preds.append(0)\n",
    "    elif pred >= coef[0] and pred < coef[1]:\n",
    "        test_preds.append(1)\n",
    "    elif pred >= coef[1] and pred < coef[2]:\n",
    "        test_preds.append(2)\n",
    "    elif pred >= coef[2] and pred < coef[3]:\n",
    "        test_preds.append(3)\n",
    "    else:\n",
    "        test_preds.append(4)"
   ]
  },
  {
   "cell_type": "code",
   "execution_count": 18,
   "metadata": {},
   "outputs": [
    {
     "data": {
      "text/plain": [
       "0.8977512046265299"
      ]
     },
     "execution_count": 18,
     "metadata": {},
     "output_type": "execute_result"
    },
    {
     "ename": "",
     "evalue": "",
     "output_type": "error",
     "traceback": [
      "\u001b[1;31mThe Kernel crashed while executing code in the the current cell or a previous cell. Please review the code in the cell(s) to identify a possible cause of the failure. Click <a href='https://aka.ms/vscodeJupyterKernelCrash'>here</a> for more info. View Jupyter <a href='command:jupyter.viewOutput'>log</a> for further details."
     ]
    }
   ],
   "source": [
    "\n",
    "\n",
    "from sklearn.metrics import cohen_kappa_score\n",
    "\n",
    "cohen_kappa_score(predictions['y_true'], test_preds, weights = 'quadratic')\n",
    "\n"
   ]
  },
  {
   "cell_type": "code",
   "execution_count": null,
   "metadata": {},
   "outputs": [],
   "source": []
  }
 ],
 "metadata": {
  "kernelspec": {
   "display_name": "nunoodles",
   "language": "python",
   "name": "python3"
  },
  "language_info": {
   "codemirror_mode": {
    "name": "ipython",
    "version": 3
   },
   "file_extension": ".py",
   "mimetype": "text/x-python",
   "name": "python",
   "nbconvert_exporter": "python",
   "pygments_lexer": "ipython3",
   "version": "3.8.18"
  },
  "orig_nbformat": 4
 },
 "nbformat": 4,
 "nbformat_minor": 2
}
