{
 "cells": [
  {
   "cell_type": "code",
   "execution_count": 1,
   "metadata": {},
   "outputs": [],
   "source": [
    "import torch\n",
    "import clip\n",
    "import numpy as np\n",
    "import matplotlib.pyplot as plt\n",
    "import os\n",
    "import math\n",
    "from torchvision.datasets import CIFAR10\n",
    "from torchvision.transforms import *\n",
    "from tqdm.notebook import tqdm"
   ]
  },
  {
   "cell_type": "code",
   "execution_count": 4,
   "metadata": {},
   "outputs": [
    {
     "name": "stderr",
     "output_type": "stream",
     "text": [
      "/home/santosh.sanjeev/.conda/envs/nunoodles/lib/python3.8/site-packages/torchvision/transforms/v2/_deprecated.py:41: UserWarning: The transform `ToTensor()` is deprecated and will be removed in a future release. Instead, please use `transforms.Compose([transforms.ToImageTensor(), transforms.ConvertImageDtype()])`.\n",
      "  warnings.warn(\n"
     ]
    },
    {
     "name": "stdout",
     "output_type": "stream",
     "text": [
      "5000 45000\n"
     ]
    },
    {
     "name": "stderr",
     "output_type": "stream",
     "text": [
      "/home/santosh.sanjeev/.conda/envs/nunoodles/lib/python3.8/site-packages/torch/utils/data/dataloader.py:561: UserWarning: This DataLoader will create 12 worker processes in total. Our suggested max number of worker in current system is 8, which is smaller than what this DataLoader is going to create. Please be aware that excessive worker creation might get DataLoader running slow or even freeze, lower the worker number to avoid potential slowness/freeze if necessary.\n",
      "  warnings.warn(_create_warning_msg(\n"
     ]
    }
   ],
   "source": [
    "from torch.utils.data.dataset import Subset\n",
    "from torchvision.transforms import InterpolationMode\n",
    "# BICUBIC = InterpolationMode.BICUBIC\n",
    "from torchvision.transforms.v2 import AutoAugmentPolicy, functional as F, InterpolationMode, Transform\n",
    "from torchvision.transforms import v2\n",
    "import torchvision\n",
    "from torch.utils.data import DataLoader\n",
    "\n",
    "# def _convert_image_to_rgb(image):\n",
    "#     return image.convert(\"RGB\")\n",
    "\n",
    "\n",
    "# # def _transform(n_px):\n",
    "# #     return Compose([\n",
    "# #         Resize(n_px, interpolation=BICUBIC),\n",
    "# #         CenterCrop(n_px),\n",
    "# #         _convert_image_to_rgb,\n",
    "# #         ToTensor(),\n",
    "# #         Normalize((0.48145466, 0.4578275, 0.40821073), (0.26862954, 0.26130258, 0.27577711)),\n",
    "# #     ])\n",
    "\n",
    "# def _transform(n_px):\n",
    "#    v2.Compose([\n",
    "#     v2.Resize((224, 224), antialias=True),\n",
    "#     v2.ToTensor(),\n",
    "#     v2.Normalize(mean=[0.485,0.456,0.406],std=[0.229,0.224,0.225]),\n",
    "#     ])\n",
    "\n",
    "# transforms = _transform(224)\n",
    "CIFAR_PATH = \"../dataset/cifar\"\n",
    "CIFAR_INDICES = \"../dataset/cifar/cifar1098_idxs.npy\"\n",
    "\n",
    "train_transform = v2.Compose([\n",
    "    v2.RandomResizedCrop((224, 224), scale=(0.9, 1.0), antialias=True),\n",
    "    v2.ToTensor(),\n",
    "    v2.Normalize(mean=[0.485,0.456,0.406],std=[0.229,0.224,0.225]),\n",
    "])\n",
    "\n",
    "val_transform = v2.Compose([\n",
    "    v2.Resize((224, 224), antialias=True),\n",
    "    v2.ToTensor(),\n",
    "    v2.Normalize(mean=[0.485,0.456,0.406],std=[0.229,0.224,0.225]),\n",
    "    ])\n",
    "\n",
    "\n",
    "trainset = torchvision.datasets.CIFAR10(root=CIFAR_PATH, train=True, transform=train_transform)\n",
    "valset = torchvision.datasets.CIFAR10(root=CIFAR_PATH, train=True, transform=val_transform)\n",
    "test_dataset = torchvision.datasets.CIFAR10(root=CIFAR_PATH, train=False, transform=val_transform)\n",
    "\n",
    "idxs = np.load(CIFAR_INDICES).astype('int')\n",
    "val_indices = []\n",
    "train_indices = []\n",
    "\n",
    "for i in range(len(idxs)):\n",
    "    if idxs[i]:\n",
    "        val_indices.append(i)\n",
    "    else:\n",
    "        train_indices.append(i)\n",
    "\n",
    "val_dataset = Subset(valset, val_indices)\n",
    "train_dataset = Subset(trainset, train_indices)\n",
    "print(len(val_dataset), len(train_dataset))\n",
    "\n",
    "trainloader = DataLoader(train_dataset, batch_size=128, shuffle=True, num_workers=12)\n",
    "valloader = DataLoader(val_dataset, batch_size=128, shuffle=False, num_workers=12)\n",
    "testloader = DataLoader(test_dataset, batch_size=128, shuffle=False, num_workers=12)\n"
   ]
  },
  {
   "cell_type": "code",
   "execution_count": 5,
   "metadata": {},
   "outputs": [],
   "source": [
    "device = 'cuda'\n",
    "def validate(model):\n",
    "  preds = []\n",
    "  labels = []\n",
    "  for x, y in tqdm(valloader):\n",
    "    x = x.to(device)\n",
    "    y = y.to(device)\n",
    "    preds.append(model(x).argmax(dim=1))\n",
    "    labels.append(y)\n",
    "  return torch.mean((torch.cat(preds) == torch.cat(labels)).float()).item()\n",
    "\n",
    "def test(model):\n",
    "  preds = []\n",
    "  labels = []\n",
    "  for x, y in tqdm(testloader):\n",
    "    x = x.to(device)\n",
    "    y = y.to(device)\n",
    "    preds.append(model(x).argmax(dim=1))\n",
    "    labels.append(y)\n",
    "  return torch.mean((torch.cat(preds) == torch.cat(labels)).float()).item()"
   ]
  },
  {
   "cell_type": "code",
   "execution_count": 6,
   "metadata": {},
   "outputs": [],
   "source": [
    "class ModelWrapper(torch.nn.Module):\n",
    "    def __init__(self, model, feature_dim, num_classes, normalize=False, initial_weights=None):\n",
    "        super(ModelWrapper, self).__init__()\n",
    "        self.model = model\n",
    "        self.classification_head = torch.nn.Linear(feature_dim, num_classes)\n",
    "        self.normalize = normalize\n",
    "        if not self.normalize:\n",
    "            print('normalize skipped.')\n",
    "\n",
    "        if initial_weights is not None and type(initial_weights) == tuple:\n",
    "            print('tuple.')\n",
    "            w, b = initial_weights\n",
    "            self.classification_head.weight = torch.nn.Parameter(w.clone())\n",
    "            self.classification_head.bias = torch.nn.Parameter(b.clone())\n",
    "        else:\n",
    "            if initial_weights is None:\n",
    "                initial_weights = torch.zeros_like(self.classification_head.weight)\n",
    "                torch.nn.init.kaiming_uniform_(initial_weights, a=math.sqrt(5))\n",
    "            self.classification_head.weight = torch.nn.Parameter(initial_weights.clone())\n",
    "            # Note: modified. Initial bug in forgetting to zero bias.\n",
    "            self.classification_head.bias = torch.nn.Parameter(torch.zeros_like(self.classification_head.bias))\n",
    "\n",
    "        # Note: modified. Get rid of the language part.\n",
    "        delattr(self.model, 'transformer')\n",
    "\n",
    "    def forward(self, images):\n",
    "        features = self.model.encode_image(images).float()\n",
    "        if self.normalize:\n",
    "            features = features / features.norm(dim=-1, keepdim=True)\n",
    "        logits = self.classification_head(features)\n",
    "        return logits"
   ]
  },
  {
   "cell_type": "code",
   "execution_count": 5,
   "metadata": {},
   "outputs": [
    {
     "name": "stdout",
     "output_type": "stream",
     "text": [
      "checkpoint_10.1.pt\n",
      "Loading checkpoint_10.1.pt\n"
     ]
    }
   ],
   "source": [
    "device = 'cuda' if torch.cuda.is_available() else 'cpu'\n",
    "state_dicts = []\n",
    "\n",
    "for f in sorted(os.listdir()):\n",
    "  print(f)\n",
    "  if f[-2:] == 'pt':\n",
    "    print(f'Loading {f}')\n",
    "    state_dicts.append(torch.load(f, map_location=device))"
   ]
  },
  {
   "cell_type": "code",
   "execution_count": 5,
   "metadata": {},
   "outputs": [],
   "source": [
    "def get_model(state_dicts, alphal):\n",
    "  model, _ = clip.load('ViT-B/32')\n",
    "  feature_dim = state_dicts[0]['classification_head.weight'].shape[1]\n",
    "  num_classes = state_dicts[0]['classification_head.weight'].shape[0]\n",
    "  normalize = True\n",
    "  model = ModelWrapper(model, feature_dim, num_classes, normalize)\n",
    "  sd = {k : state_dicts[0][k].clone() * alphal[0] for k in state_dicts[0].keys()}\n",
    "  for i in range(1, len(state_dicts)):\n",
    "      for k in state_dicts[i].keys():\n",
    "          sd[k] = sd[k] + state_dicts[i][k].clone() * alphal[i]\n",
    "  model.load_state_dict(sd)\n",
    "  model = model.to(device)\n",
    "  return model"
   ]
  },
  {
   "cell_type": "code",
   "execution_count": 13,
   "metadata": {},
   "outputs": [
    {
     "data": {
      "application/vnd.jupyter.widget-view+json": {
       "model_id": "774754525a3b45e591eeba54014c0568",
       "version_major": 2,
       "version_minor": 0
      },
      "text/plain": [
       "  0%|          | 0/40 [00:00<?, ?it/s]"
      ]
     },
     "metadata": {},
     "output_type": "display_data"
    },
    {
     "data": {
      "application/vnd.jupyter.widget-view+json": {
       "model_id": "4506f22a6ae9483eb5f8e77b7613d5f3",
       "version_major": 2,
       "version_minor": 0
      },
      "text/plain": [
       "  0%|          | 0/79 [00:00<?, ?it/s]"
      ]
     },
     "metadata": {},
     "output_type": "display_data"
    },
    {
     "data": {
      "application/vnd.jupyter.widget-view+json": {
       "model_id": "36ad46688ba9488ca01c7d3aaa15d811",
       "version_major": 2,
       "version_minor": 0
      },
      "text/plain": [
       "  0%|          | 0/40 [00:00<?, ?it/s]"
      ]
     },
     "metadata": {},
     "output_type": "display_data"
    },
    {
     "data": {
      "application/vnd.jupyter.widget-view+json": {
       "model_id": "93e8d98401fe4f7f80e5ed85167ac211",
       "version_major": 2,
       "version_minor": 0
      },
      "text/plain": [
       "  0%|          | 0/79 [00:00<?, ?it/s]"
      ]
     },
     "metadata": {},
     "output_type": "display_data"
    },
    {
     "data": {
      "application/vnd.jupyter.widget-view+json": {
       "model_id": "0cf94164676446a2a15c57dc137a0352",
       "version_major": 2,
       "version_minor": 0
      },
      "text/plain": [
       "  0%|          | 0/40 [00:00<?, ?it/s]"
      ]
     },
     "metadata": {},
     "output_type": "display_data"
    },
    {
     "data": {
      "application/vnd.jupyter.widget-view+json": {
       "model_id": "dca912e503fd49a4833b453b1769b5d1",
       "version_major": 2,
       "version_minor": 0
      },
      "text/plain": [
       "  0%|          | 0/79 [00:00<?, ?it/s]"
      ]
     },
     "metadata": {},
     "output_type": "display_data"
    },
    {
     "data": {
      "application/vnd.jupyter.widget-view+json": {
       "model_id": "1c0442767b9d4f1dafa45d3044efb4df",
       "version_major": 2,
       "version_minor": 0
      },
      "text/plain": [
       "  0%|          | 0/40 [00:00<?, ?it/s]"
      ]
     },
     "metadata": {},
     "output_type": "display_data"
    },
    {
     "data": {
      "application/vnd.jupyter.widget-view+json": {
       "model_id": "7301a9ebb2724df5b8d5be152ee9ca6e",
       "version_major": 2,
       "version_minor": 0
      },
      "text/plain": [
       "  0%|          | 0/79 [00:00<?, ?it/s]"
      ]
     },
     "metadata": {},
     "output_type": "display_data"
    },
    {
     "data": {
      "application/vnd.jupyter.widget-view+json": {
       "model_id": "b9d320c58732423396d9e743e413b257",
       "version_major": 2,
       "version_minor": 0
      },
      "text/plain": [
       "  0%|          | 0/40 [00:00<?, ?it/s]"
      ]
     },
     "metadata": {},
     "output_type": "display_data"
    },
    {
     "data": {
      "application/vnd.jupyter.widget-view+json": {
       "model_id": "77d59df8d177488f9f222e0eae2c5ffe",
       "version_major": 2,
       "version_minor": 0
      },
      "text/plain": [
       "  0%|          | 0/79 [00:00<?, ?it/s]"
      ]
     },
     "metadata": {},
     "output_type": "display_data"
    }
   ],
   "source": [
    "val_results = []\n",
    "test_results = []\n",
    "\n",
    "for i in range(len(state_dicts)):\n",
    "  model, _ = clip.load('ViT-B/32')\n",
    "  feature_dim = state_dicts[0]['classification_head.weight'].shape[1]\n",
    "  num_classes = state_dicts[0]['classification_head.weight'].shape[0]\n",
    "  normalize = True\n",
    "  model = ModelWrapper(model, feature_dim, num_classes, normalize)\n",
    "  model.load_state_dict(state_dicts[i])\n",
    "  model = model.to(device)\n",
    "  \n",
    "  val_results.append(validate(model))\n",
    "  test_results.append(test(model))"
   ]
  },
  {
   "cell_type": "code",
   "execution_count": 16,
   "metadata": {},
   "outputs": [
    {
     "data": {
      "text/plain": [
       "([0, 1, 2, 3, 4],\n",
       " [Text(0, 0, 'Model 1'),\n",
       "  Text(1, 0, 'Model 2'),\n",
       "  Text(2, 0, 'Model 3'),\n",
       "  Text(3, 0, 'Model 4'),\n",
       "  Text(4, 0, 'Model 5')])"
      ]
     },
     "execution_count": 16,
     "metadata": {},
     "output_type": "execute_result"
    },
    {
     "data": {
      "image/png": "[encoded data removed]",
      "text/plain": [
       "<Figure size 640x480 with 1 Axes>"
      ]
     },
     "metadata": {},
     "output_type": "display_data"
    }
   ],
   "source": [
    "names = [f'Model {i+1}' for i in range(len(state_dicts))]\n",
    "plt.bar(names, val_results)\n",
    "plt.title(\"Val Accuracy By Model\")\n",
    "plt.ylim([0.95,1])\n",
    "plt.xticks(rotation=30, ha='right')"
   ]
  },
  {
   "cell_type": "code",
   "execution_count": 14,
   "metadata": {},
   "outputs": [
    {
     "data": {
      "text/plain": [
       "([0, 1, 2, 3, 4],\n",
       " [Text(0, 0, 'Model 1'),\n",
       "  Text(1, 0, 'Model 2'),\n",
       "  Text(2, 0, 'Model 3'),\n",
       "  Text(3, 0, 'Model 4'),\n",
       "  Text(4, 0, 'Model 5')])"
      ]
     },
     "execution_count": 14,
     "metadata": {},
     "output_type": "execute_result"
    },
    {
     "data": {
      "image/png": "[encoded data removed]",
      "text/plain": [
       "<Figure size 640x480 with 1 Axes>"
      ]
     },
     "metadata": {},
     "output_type": "display_data"
    }
   ],
   "source": [
    "names = [f'Model {i+1}' for i in range(len(state_dicts))]\n",
    "plt.bar(names, test_results)\n",
    "plt.title(\"Test Accuracy By Model\")\n",
    "plt.ylim([0.95,1])\n",
    "plt.xticks(rotation=30, ha='right')"
   ]
  },
  {
   "cell_type": "markdown",
   "metadata": {},
   "source": [
    "**UNIFORM SOUP**"
   ]
  },
  {
   "cell_type": "code",
   "execution_count": 15,
   "metadata": {},
   "outputs": [
    {
     "data": {
      "application/vnd.jupyter.widget-view+json": {
       "model_id": "7924aeef3b6a4858adfdd6b69b2d637e",
       "version_major": 2,
       "version_minor": 0
      },
      "text/plain": [
       "  0%|          | 0/79 [00:00<?, ?it/s]"
      ]
     },
     "metadata": {},
     "output_type": "display_data"
    }
   ],
   "source": [
    "alphal = [1 / len(state_dicts) for i in range(len(state_dicts))]\n",
    "model = get_model(state_dicts, alphal)\n",
    "test_results.append(test(model))"
   ]
  },
  {
   "cell_type": "code",
   "execution_count": 17,
   "metadata": {},
   "outputs": [
    {
     "data": {
      "text/plain": [
       "([0, 1, 2, 3, 4, 5],\n",
       " [Text(0, 0, 'Model 1'),\n",
       "  Text(1, 0, 'Model 2'),\n",
       "  Text(2, 0, 'Model 3'),\n",
       "  Text(3, 0, 'Model 4'),\n",
       "  Text(4, 0, 'Model 5'),\n",
       "  Text(5, 0, 'Uniform Soup')])"
      ]
     },
     "execution_count": 17,
     "metadata": {},
     "output_type": "execute_result"
    },
    {
     "data": {
      "image/png": "[encoded data removed]",
      "text/plain": [
       "<Figure size 640x480 with 1 Axes>"
      ]
     },
     "metadata": {},
     "output_type": "display_data"
    }
   ],
   "source": [
    "names.append(\"Uniform Soup\")\n",
    "plt.bar(names, test_results)\n",
    "plt.title(\"Test Accuracy By Model\")\n",
    "plt.ylim([0.95,1])\n",
    "plt.xticks(rotation=30, ha='right')"
   ]
  },
  {
   "cell_type": "markdown",
   "metadata": {},
   "source": [
    "**GREEDY SOUP ON VAL SET**"
   ]
  },
  {
   "cell_type": "code",
   "execution_count": 18,
   "metadata": {},
   "outputs": [
    {
     "data": {
      "application/vnd.jupyter.widget-view+json": {
       "model_id": "d51c9d170e8a4a508751978b77c17823",
       "version_major": 2,
       "version_minor": 0
      },
      "text/plain": [
       "  0%|          | 0/40 [00:00<?, ?it/s]"
      ]
     },
     "metadata": {},
     "output_type": "display_data"
    },
    {
     "name": "stdout",
     "output_type": "stream",
     "text": [
      "Models [2, 0] got 98.69999885559082% on validation.\n"
     ]
    },
    {
     "data": {
      "application/vnd.jupyter.widget-view+json": {
       "model_id": "53a6499406b74e64b1c7bb826b437c5c",
       "version_major": 2,
       "version_minor": 0
      },
      "text/plain": [
       "  0%|          | 0/40 [00:00<?, ?it/s]"
      ]
     },
     "metadata": {},
     "output_type": "display_data"
    },
    {
     "name": "stdout",
     "output_type": "stream",
     "text": [
      "Models [2, 0, 4] got 98.87999892234802% on validation.\n"
     ]
    },
    {
     "data": {
      "application/vnd.jupyter.widget-view+json": {
       "model_id": "1523792ae6744948a190baf76142222b",
       "version_major": 2,
       "version_minor": 0
      },
      "text/plain": [
       "  0%|          | 0/40 [00:00<?, ?it/s]"
      ]
     },
     "metadata": {},
     "output_type": "display_data"
    },
    {
     "name": "stdout",
     "output_type": "stream",
     "text": [
      "Models [2, 0, 4, 1] got 98.83999824523926% on validation.\n"
     ]
    },
    {
     "data": {
      "application/vnd.jupyter.widget-view+json": {
       "model_id": "2ec50d2651eb4792862a1d212b951efb",
       "version_major": 2,
       "version_minor": 0
      },
      "text/plain": [
       "  0%|          | 0/40 [00:00<?, ?it/s]"
      ]
     },
     "metadata": {},
     "output_type": "display_data"
    },
    {
     "name": "stdout",
     "output_type": "stream",
     "text": [
      "Models [2, 0, 4, 3] got 98.83999824523926% on validation.\n"
     ]
    }
   ],
   "source": [
    "ranked_candidates = [i for i in range(len(state_dicts))]\n",
    "ranked_candidates.sort(key=lambda x: -val_results[x])\n",
    "\n",
    "current_best = val_results[ranked_candidates[0]]\n",
    "best_ingredients = ranked_candidates[:1]\n",
    "for i in range(1, len(state_dicts)):\n",
    "  # add current index to the ingredients\n",
    "  ingredient_indices = best_ingredients \\\n",
    "    + [ranked_candidates[i]]\n",
    "  alphal = [0 for i in range(len(state_dicts))]\n",
    "  for j in ingredient_indices:\n",
    "    alphal[j] = 1 / len(ingredient_indices)\n",
    "  \n",
    "  # benchmark and conditionally append\n",
    "  model = get_model(state_dicts, alphal)\n",
    "  current = validate(model)\n",
    "  print(f'Models {ingredient_indices} got {current*100}% on validation.')\n",
    "  if current > current_best:\n",
    "    current_best = current\n",
    "    best_ingredients = ingredient_indices\n",
    "\n"
   ]
  },
  {
   "cell_type": "markdown",
   "metadata": {},
   "source": [
    "**GREEDY SOUP TEST SET**"
   ]
  },
  {
   "cell_type": "code",
   "execution_count": 19,
   "metadata": {},
   "outputs": [
    {
     "data": {
      "application/vnd.jupyter.widget-view+json": {
       "model_id": "3c4eba7b83d6419a86f98cf38fc2b51c",
       "version_major": 2,
       "version_minor": 0
      },
      "text/plain": [
       "  0%|          | 0/79 [00:00<?, ?it/s]"
      ]
     },
     "metadata": {},
     "output_type": "display_data"
    }
   ],
   "source": [
    "alphal = [0 for i in range(len(state_dicts))]\n",
    "for j in best_ingredients:\n",
    "  alphal[j] = 1 / len(best_ingredients)\n",
    "model = get_model(state_dicts, alphal)\n",
    "\n",
    "test_results.append(test(model))"
   ]
  },
  {
   "cell_type": "code",
   "execution_count": 20,
   "metadata": {},
   "outputs": [
    {
     "name": "stdout",
     "output_type": "stream",
     "text": [
      "['Model 1', 'Model 2', 'Model 3', 'Model 4', 'Model 5', 'Uniform Soup'] [0.9769999980926514, 0.9724999666213989, 0.9802999496459961, 0.9649999737739563, 0.9782999753952026, 0.9838999509811401, 0.984499990940094]\n",
      "['Model 1', 'Model 2', 'Model 3', 'Model 4', 'Model 5', 'Uniform Soup'] [0.9825999736785889, 0.9759999513626099, 0.9835999608039856, 0.9717999696731567, 0.9815999865531921]\n"
     ]
    }
   ],
   "source": [
    "print(names, test_results)\n",
    "print(names, val_results)"
   ]
  },
  {
   "cell_type": "code",
   "execution_count": 21,
   "metadata": {},
   "outputs": [
    {
     "data": {
      "text/plain": [
       "([0, 1, 2, 3, 4, 5, 6],\n",
       " [Text(0, 0, 'Model 1'),\n",
       "  Text(1, 0, 'Model 2'),\n",
       "  Text(2, 0, 'Model 3'),\n",
       "  Text(3, 0, 'Model 4'),\n",
       "  Text(4, 0, 'Model 5'),\n",
       "  Text(5, 0, 'Uniform Soup'),\n",
       "  Text(6, 0, 'Greedy Soup')])"
      ]
     },
     "execution_count": 21,
     "metadata": {},
     "output_type": "execute_result"
    },
    {
     "data": {
      "image/png": "[encoded data removed]",
      "text/plain": [
       "<Figure size 640x480 with 1 Axes>"
      ]
     },
     "metadata": {},
     "output_type": "display_data"
    }
   ],
   "source": [
    "names.append(\"Greedy Soup\")\n",
    "plt.bar(names, test_results)\n",
    "plt.title(\"Test Accuracy By Model\")\n",
    "plt.ylim([0.95,1])\n",
    "plt.xticks(rotation=30, ha='right')"
   ]
  },
  {
   "cell_type": "markdown",
   "metadata": {},
   "source": [
    "**FGE of checkpoint_10.4**"
   ]
  },
  {
   "cell_type": "code",
   "execution_count": 10,
   "metadata": {},
   "outputs": [
    {
     "name": "stdout",
     "output_type": "stream",
     "text": [
      "usage: jupyter [-h] [--version] [--config-dir] [--data-dir] [--runtime-dir]\n",
      "               [--paths] [--json] [--debug]\n",
      "               [subcommand]\n",
      "\n",
      "Jupyter: Interactive Computing\n",
      "\n",
      "positional arguments:\n",
      "  subcommand     the subcommand to launch\n",
      "\n",
      "optional arguments:\n",
      "  -h, --help     show this help message and exit\n",
      "  --version      show the versions of core jupyter packages and exit\n",
      "  --config-dir   show Jupyter config dir\n",
      "  --data-dir     show Jupyter data dir\n",
      "  --runtime-dir  show Jupyter runtime dir\n",
      "  --paths        show all Jupyter paths. Add --json for machine-readable\n",
      "                 format.\n",
      "  --json         output paths as machine-readable json\n",
      "  --debug        output debug information about paths\n",
      "\n",
      "Available subcommands: console kernel kernelspec migrate qtconsole run\n",
      "troubleshoot\n",
      "\n",
      "Jupyter command `jupyter-nbextension` not found.\n"
     ]
    }
   ],
   "source": [
    "!jupyter nbextension enable --py widgetsnbextension"
   ]
  },
  {
   "cell_type": "code",
   "execution_count": 6,
   "metadata": {},
   "outputs": [
    {
     "name": "stdout",
     "output_type": "stream",
     "text": [
      "/home/santosh.sanjeev/Projects/model-soups/noodles/Fis&Fus/clip_checkpoints/fge-11.pt\n"
     ]
    },
    {
     "data": {
      "application/vnd.jupyter.widget-view+json": {
       "model_id": "b30dd46d39934dee8dd4dfd5c5ff50c1",
       "version_major": 2,
       "version_minor": 0
      },
      "text/plain": [
       "  0%|          | 0/40 [00:00<?, ?it/s]"
      ]
     },
     "metadata": {},
     "output_type": "display_data"
    },
    {
     "name": "stderr",
     "output_type": "stream",
     "text": [
      "/home/santosh.sanjeev/.conda/envs/nunoodles/lib/python3.8/site-packages/torch/utils/data/dataloader.py:561: UserWarning: This DataLoader will create 12 worker processes in total. Our suggested max number of worker in current system is 8, which is smaller than what this DataLoader is going to create. Please be aware that excessive worker creation might get DataLoader running slow or even freeze, lower the worker number to avoid potential slowness/freeze if necessary.\n",
      "  warnings.warn(_create_warning_msg(\n"
     ]
    },
    {
     "data": {
      "application/vnd.jupyter.widget-view+json": {
       "model_id": "df6a21819f944ba0821e543005097ce6",
       "version_major": 2,
       "version_minor": 0
      },
      "text/plain": [
       "  0%|          | 0/79 [00:00<?, ?it/s]"
      ]
     },
     "metadata": {},
     "output_type": "display_data"
    },
    {
     "name": "stdout",
     "output_type": "stream",
     "text": [
      "0.9801999926567078 0.9749999642372131\n",
      "/home/santosh.sanjeev/Projects/model-soups/noodles/Fis&Fus/clip_checkpoints/fge-13.pt\n"
     ]
    },
    {
     "data": {
      "application/vnd.jupyter.widget-view+json": {
       "model_id": "f438f18489444e83a1e767ab86cb6e20",
       "version_major": 2,
       "version_minor": 0
      },
      "text/plain": [
       "  0%|          | 0/40 [00:00<?, ?it/s]"
      ]
     },
     "metadata": {},
     "output_type": "display_data"
    },
    {
     "data": {
      "application/vnd.jupyter.widget-view+json": {
       "model_id": "ad8670af5d0049fda8f0556cb861c1f8",
       "version_major": 2,
       "version_minor": 0
      },
      "text/plain": [
       "  0%|          | 0/79 [00:00<?, ?it/s]"
      ]
     },
     "metadata": {},
     "output_type": "display_data"
    },
    {
     "name": "stdout",
     "output_type": "stream",
     "text": [
      "0.975600004196167 0.9651999473571777\n",
      "/home/santosh.sanjeev/Projects/model-soups/noodles/Fis&Fus/clip_checkpoints/fge-15.pt\n"
     ]
    },
    {
     "data": {
      "application/vnd.jupyter.widget-view+json": {
       "model_id": "d60034e737224b8ba5092fdf6c727f23",
       "version_major": 2,
       "version_minor": 0
      },
      "text/plain": [
       "  0%|          | 0/40 [00:00<?, ?it/s]"
      ]
     },
     "metadata": {},
     "output_type": "display_data"
    },
    {
     "data": {
      "application/vnd.jupyter.widget-view+json": {
       "model_id": "fcd77ab0c49c4072b7ed70367db410d7",
       "version_major": 2,
       "version_minor": 0
      },
      "text/plain": [
       "  0%|          | 0/79 [00:00<?, ?it/s]"
      ]
     },
     "metadata": {},
     "output_type": "display_data"
    },
    {
     "name": "stdout",
     "output_type": "stream",
     "text": [
      "0.9807999730110168 0.975600004196167\n",
      "/home/santosh.sanjeev/Projects/model-soups/noodles/Fis&Fus/clip_checkpoints/fge-17.pt\n"
     ]
    },
    {
     "data": {
      "application/vnd.jupyter.widget-view+json": {
       "model_id": "1eee31290c6b47dcab87887eafd168d6",
       "version_major": 2,
       "version_minor": 0
      },
      "text/plain": [
       "  0%|          | 0/40 [00:00<?, ?it/s]"
      ]
     },
     "metadata": {},
     "output_type": "display_data"
    },
    {
     "data": {
      "application/vnd.jupyter.widget-view+json": {
       "model_id": "1a8d28e8570c4e8d9c02483df3ac39a9",
       "version_major": 2,
       "version_minor": 0
      },
      "text/plain": [
       "  0%|          | 0/79 [00:00<?, ?it/s]"
      ]
     },
     "metadata": {},
     "output_type": "display_data"
    },
    {
     "name": "stdout",
     "output_type": "stream",
     "text": [
      "0.9761999845504761 0.9651999473571777\n",
      "/home/santosh.sanjeev/Projects/model-soups/noodles/Fis&Fus/clip_checkpoints/fge-19.pt\n"
     ]
    },
    {
     "data": {
      "application/vnd.jupyter.widget-view+json": {
       "model_id": "a9fc43b5f2d34272be36d515d12702b7",
       "version_major": 2,
       "version_minor": 0
      },
      "text/plain": [
       "  0%|          | 0/40 [00:00<?, ?it/s]"
      ]
     },
     "metadata": {},
     "output_type": "display_data"
    },
    {
     "data": {
      "application/vnd.jupyter.widget-view+json": {
       "model_id": "0fd722d9006d4811a330b12e46dcb941",
       "version_major": 2,
       "version_minor": 0
      },
      "text/plain": [
       "  0%|          | 0/79 [00:00<?, ?it/s]"
      ]
     },
     "metadata": {},
     "output_type": "display_data"
    },
    {
     "name": "stdout",
     "output_type": "stream",
     "text": [
      "0.9803999662399292 0.972599983215332\n",
      "/home/santosh.sanjeev/Projects/model-soups/noodles/Fis&Fus/clip_checkpoints/fge-21.pt\n"
     ]
    },
    {
     "data": {
      "application/vnd.jupyter.widget-view+json": {
       "model_id": "02bfecc6a9164414bd731acc34e5f56f",
       "version_major": 2,
       "version_minor": 0
      },
      "text/plain": [
       "  0%|          | 0/40 [00:00<?, ?it/s]"
      ]
     },
     "metadata": {},
     "output_type": "display_data"
    },
    {
     "data": {
      "application/vnd.jupyter.widget-view+json": {
       "model_id": "51ff41d5d3994baf81280ef5a04c6fbf",
       "version_major": 2,
       "version_minor": 0
      },
      "text/plain": [
       "  0%|          | 0/79 [00:00<?, ?it/s]"
      ]
     },
     "metadata": {},
     "output_type": "display_data"
    },
    {
     "name": "stdout",
     "output_type": "stream",
     "text": [
      "0.9723999500274658 0.9667999744415283\n",
      "/home/santosh.sanjeev/Projects/model-soups/noodles/Fis&Fus/clip_checkpoints/fge-23.pt\n"
     ]
    },
    {
     "data": {
      "application/vnd.jupyter.widget-view+json": {
       "model_id": "675435771aff4e30b288e41f87ba84ef",
       "version_major": 2,
       "version_minor": 0
      },
      "text/plain": [
       "  0%|          | 0/40 [00:00<?, ?it/s]"
      ]
     },
     "metadata": {},
     "output_type": "display_data"
    },
    {
     "data": {
      "application/vnd.jupyter.widget-view+json": {
       "model_id": "c37d01b00d3b4ef4824774836e2731e1",
       "version_major": 2,
       "version_minor": 0
      },
      "text/plain": [
       "  0%|          | 0/79 [00:00<?, ?it/s]"
      ]
     },
     "metadata": {},
     "output_type": "display_data"
    },
    {
     "name": "stdout",
     "output_type": "stream",
     "text": [
      "0.9799999594688416 0.9735999703407288\n",
      "/home/santosh.sanjeev/Projects/model-soups/noodles/Fis&Fus/clip_checkpoints/fge-25.pt\n"
     ]
    },
    {
     "data": {
      "application/vnd.jupyter.widget-view+json": {
       "model_id": "d147d5d327f849f2a6b96b30e1b1c7bf",
       "version_major": 2,
       "version_minor": 0
      },
      "text/plain": [
       "  0%|          | 0/40 [00:00<?, ?it/s]"
      ]
     },
     "metadata": {},
     "output_type": "display_data"
    },
    {
     "data": {
      "application/vnd.jupyter.widget-view+json": {
       "model_id": "8bb7907006074cfcabc0cc6a3757fdb5",
       "version_major": 2,
       "version_minor": 0
      },
      "text/plain": [
       "  0%|          | 0/79 [00:00<?, ?it/s]"
      ]
     },
     "metadata": {},
     "output_type": "display_data"
    },
    {
     "name": "stdout",
     "output_type": "stream",
     "text": [
      "0.972599983215332 0.9660999774932861\n",
      "/home/santosh.sanjeev/Projects/model-soups/noodles/Fis&Fus/clip_checkpoints/fge-27.pt\n"
     ]
    },
    {
     "data": {
      "application/vnd.jupyter.widget-view+json": {
       "model_id": "21cc844775fb4f519f430bba93eea2f5",
       "version_major": 2,
       "version_minor": 0
      },
      "text/plain": [
       "  0%|          | 0/40 [00:00<?, ?it/s]"
      ]
     },
     "metadata": {},
     "output_type": "display_data"
    },
    {
     "data": {
      "application/vnd.jupyter.widget-view+json": {
       "model_id": "f16039bb6829400a92c20b05fc3e678b",
       "version_major": 2,
       "version_minor": 0
      },
      "text/plain": [
       "  0%|          | 0/79 [00:00<?, ?it/s]"
      ]
     },
     "metadata": {},
     "output_type": "display_data"
    },
    {
     "name": "stdout",
     "output_type": "stream",
     "text": [
      "0.9777999520301819 0.9729999899864197\n",
      "/home/santosh.sanjeev/Projects/model-soups/noodles/Fis&Fus/clip_checkpoints/fge-29.pt\n"
     ]
    },
    {
     "data": {
      "application/vnd.jupyter.widget-view+json": {
       "model_id": "96364e72e9d94770abe89bd8432e8702",
       "version_major": 2,
       "version_minor": 0
      },
      "text/plain": [
       "  0%|          | 0/40 [00:00<?, ?it/s]"
      ]
     },
     "metadata": {},
     "output_type": "display_data"
    },
    {
     "data": {
      "application/vnd.jupyter.widget-view+json": {
       "model_id": "6d3e496228294e10a3c1a76397fbca67",
       "version_major": 2,
       "version_minor": 0
      },
      "text/plain": [
       "  0%|          | 0/79 [00:00<?, ?it/s]"
      ]
     },
     "metadata": {},
     "output_type": "display_data"
    },
    {
     "name": "stdout",
     "output_type": "stream",
     "text": [
      "0.9691999554634094 0.960599958896637\n",
      "/home/santosh.sanjeev/Projects/model-soups/noodles/Fis&Fus/clip_checkpoints/fge-31.pt\n"
     ]
    },
    {
     "data": {
      "application/vnd.jupyter.widget-view+json": {
       "model_id": "2bd5b122280643e7a59aa9e51ae65879",
       "version_major": 2,
       "version_minor": 0
      },
      "text/plain": [
       "  0%|          | 0/40 [00:00<?, ?it/s]"
      ]
     },
     "metadata": {},
     "output_type": "display_data"
    },
    {
     "data": {
      "application/vnd.jupyter.widget-view+json": {
       "model_id": "51a2e33f479146f2ae61412d91cbe1d9",
       "version_major": 2,
       "version_minor": 0
      },
      "text/plain": [
       "  0%|          | 0/79 [00:00<?, ?it/s]"
      ]
     },
     "metadata": {},
     "output_type": "display_data"
    },
    {
     "name": "stdout",
     "output_type": "stream",
     "text": [
      "0.9797999858856201 0.9724999666213989\n",
      "/home/santosh.sanjeev/Projects/model-soups/noodles/Fis&Fus/clip_checkpoints/fge-33.pt\n"
     ]
    },
    {
     "data": {
      "application/vnd.jupyter.widget-view+json": {
       "model_id": "fe7e6ac3c58e4e2ca45486b61f92971d",
       "version_major": 2,
       "version_minor": 0
      },
      "text/plain": [
       "  0%|          | 0/40 [00:00<?, ?it/s]"
      ]
     },
     "metadata": {},
     "output_type": "display_data"
    },
    {
     "data": {
      "application/vnd.jupyter.widget-view+json": {
       "model_id": "dd5026009fa64bcaaf03765600fd0072",
       "version_major": 2,
       "version_minor": 0
      },
      "text/plain": [
       "  0%|          | 0/79 [00:00<?, ?it/s]"
      ]
     },
     "metadata": {},
     "output_type": "display_data"
    },
    {
     "name": "stdout",
     "output_type": "stream",
     "text": [
      "0.967799961566925 0.9667999744415283\n",
      "/home/santosh.sanjeev/Projects/model-soups/noodles/Fis&Fus/clip_checkpoints/fge-35.pt\n"
     ]
    },
    {
     "data": {
      "application/vnd.jupyter.widget-view+json": {
       "model_id": "7f66df37bf8b485eb8aaae156c9934a5",
       "version_major": 2,
       "version_minor": 0
      },
      "text/plain": [
       "  0%|          | 0/40 [00:00<?, ?it/s]"
      ]
     },
     "metadata": {},
     "output_type": "display_data"
    },
    {
     "data": {
      "application/vnd.jupyter.widget-view+json": {
       "model_id": "0c6cd0babc194e83a68b87604f03e30d",
       "version_major": 2,
       "version_minor": 0
      },
      "text/plain": [
       "  0%|          | 0/79 [00:00<?, ?it/s]"
      ]
     },
     "metadata": {},
     "output_type": "display_data"
    },
    {
     "name": "stdout",
     "output_type": "stream",
     "text": [
      "0.9779999852180481 0.9702000021934509\n",
      "/home/santosh.sanjeev/Projects/model-soups/noodles/Fis&Fus/clip_checkpoints/fge-37.pt\n"
     ]
    },
    {
     "data": {
      "application/vnd.jupyter.widget-view+json": {
       "model_id": "8914b0298bc4412dbd7341ce7ccbaf4c",
       "version_major": 2,
       "version_minor": 0
      },
      "text/plain": [
       "  0%|          | 0/40 [00:00<?, ?it/s]"
      ]
     },
     "metadata": {},
     "output_type": "display_data"
    },
    {
     "data": {
      "application/vnd.jupyter.widget-view+json": {
       "model_id": "ecc78cfa9ee04a4bac40adb7a3a8dd06",
       "version_major": 2,
       "version_minor": 0
      },
      "text/plain": [
       "  0%|          | 0/79 [00:00<?, ?it/s]"
      ]
     },
     "metadata": {},
     "output_type": "display_data"
    },
    {
     "name": "stdout",
     "output_type": "stream",
     "text": [
      "0.9649999737739563 0.9620999693870544\n",
      "/home/santosh.sanjeev/Projects/model-soups/noodles/Fis&Fus/clip_checkpoints/fge-39.pt\n"
     ]
    },
    {
     "data": {
      "application/vnd.jupyter.widget-view+json": {
       "model_id": "c562dc47ccf14ee88b083fede8475ef9",
       "version_major": 2,
       "version_minor": 0
      },
      "text/plain": [
       "  0%|          | 0/40 [00:00<?, ?it/s]"
      ]
     },
     "metadata": {},
     "output_type": "display_data"
    },
    {
     "data": {
      "application/vnd.jupyter.widget-view+json": {
       "model_id": "ac05e06b66a343e8899b10167f9a5e48",
       "version_major": 2,
       "version_minor": 0
      },
      "text/plain": [
       "  0%|          | 0/79 [00:00<?, ?it/s]"
      ]
     },
     "metadata": {},
     "output_type": "display_data"
    },
    {
     "name": "stdout",
     "output_type": "stream",
     "text": [
      "0.9749999642372131 0.9686999917030334\n",
      "/l/users/santosh.sanjeev/model_soups/final_models/CLIP_wo_mixup/2024-01-07_02-48-23/hparam_2024-01-07_06-45-10/best_checkpoint.pth\n"
     ]
    },
    {
     "data": {
      "application/vnd.jupyter.widget-view+json": {
       "model_id": "2f9071476a3a41ae9bfe291ad1d21d23",
       "version_major": 2,
       "version_minor": 0
      },
      "text/plain": [
       "  0%|          | 0/40 [00:00<?, ?it/s]"
      ]
     },
     "metadata": {},
     "output_type": "display_data"
    },
    {
     "data": {
      "application/vnd.jupyter.widget-view+json": {
       "model_id": "7de4b497b91e4f019db66041f2779aac",
       "version_major": 2,
       "version_minor": 0
      },
      "text/plain": [
       "  0%|          | 0/79 [00:00<?, ?it/s]"
      ]
     },
     "metadata": {},
     "output_type": "display_data"
    },
    {
     "name": "stdout",
     "output_type": "stream",
     "text": [
      "0.9873999953269958 0.9820999503135681\n"
     ]
    },
    {
     "data": {
      "application/vnd.jupyter.widget-view+json": {
       "model_id": "fb5c57a51da7419ba10e9b3bc7aac380",
       "version_major": 2,
       "version_minor": 0
      },
      "text/plain": [
       "  0%|          | 0/79 [00:00<?, ?it/s]"
      ]
     },
     "metadata": {},
     "output_type": "display_data"
    },
    {
     "name": "stdout",
     "output_type": "stream",
     "text": [
      "0.9791999459266663\n"
     ]
    },
    {
     "ename": "",
     "evalue": "",
     "output_type": "error",
     "traceback": [
      "\u001b[1;31mThe Kernel crashed while executing code in the the current cell or a previous cell. Please review the code in the cell(s) to identify a possible cause of the failure. Click <a href='https://aka.ms/vscodeJupyterKernelCrash'>here</a> for more info. View Jupyter <a href='command:jupyter.viewOutput'>log</a> for further details."
     ]
    }
   ],
   "source": [
    "\n",
    "import pandas as pd\n",
    "model_paths = [ '/home/santosh.sanjeev/Projects/model-soups/noodles/Fis&Fus/clip_checkpoints/fge-11.pt', \\\n",
    "                '/home/santosh.sanjeev/Projects/model-soups/noodles/Fis&Fus/clip_checkpoints/fge-13.pt', \\\n",
    "                '/home/santosh.sanjeev/Projects/model-soups/noodles/Fis&Fus/clip_checkpoints/fge-15.pt', \\\n",
    "                '/home/santosh.sanjeev/Projects/model-soups/noodles/Fis&Fus/clip_checkpoints/fge-17.pt', \\\n",
    "                '/home/santosh.sanjeev/Projects/model-soups/noodles/Fis&Fus/clip_checkpoints/fge-19.pt', \\\n",
    "                '/home/santosh.sanjeev/Projects/model-soups/noodles/Fis&Fus/clip_checkpoints/fge-21.pt', \\\n",
    "                '/home/santosh.sanjeev/Projects/model-soups/noodles/Fis&Fus/clip_checkpoints/fge-23.pt', \\\n",
    "                '/home/santosh.sanjeev/Projects/model-soups/noodles/Fis&Fus/clip_checkpoints/fge-25.pt', \\\n",
    "                '/home/santosh.sanjeev/Projects/model-soups/noodles/Fis&Fus/clip_checkpoints/fge-27.pt', \\\n",
    "                '/home/santosh.sanjeev/Projects/model-soups/noodles/Fis&Fus/clip_checkpoints/fge-29.pt', \\\n",
    "                '/home/santosh.sanjeev/Projects/model-soups/noodles/Fis&Fus/clip_checkpoints/fge-31.pt', \\\n",
    "                '/home/santosh.sanjeev/Projects/model-soups/noodles/Fis&Fus/clip_checkpoints/fge-33.pt', \\\n",
    "                '/home/santosh.sanjeev/Projects/model-soups/noodles/Fis&Fus/clip_checkpoints/fge-35.pt', \\\n",
    "                '/home/santosh.sanjeev/Projects/model-soups/noodles/Fis&Fus/clip_checkpoints/fge-37.pt', \\\n",
    "                '/home/santosh.sanjeev/Projects/model-soups/noodles/Fis&Fus/clip_checkpoints/fge-39.pt', \\\n",
    "                '/l/users/santosh.sanjeev/model_soups/final_models/CLIP_wo_mixup/2024-01-07_02-48-23/hparam_2024-01-07_06-45-10/best_checkpoint.pth'\n",
    "                ]#, '/home/santosh.sanjeev/model-soups/my_soups/checkpoints/grid_models/cnn_v1/model_7.pth','/home/santosh.sanjeev/model-soups/my_soups/checkpoints/grid_models/cnn_v1/model_7.pth']#, '/home/santosh.sanjeev/model-soups/my_soups/checkpoints/grid_models/model_1.pth']\n",
    "\n",
    "model_names = [os.path.splitext(os.path.basename(path))[0] for path in model_paths]\n",
    "\n",
    "device = 'cuda'\n",
    "state_dicts_test = []\n",
    "val_results = []\n",
    "test_results = []\n",
    "for model_path, model_name in zip(model_paths, model_names):\n",
    "    print(model_path)\n",
    "    checkpoint = torch.load(model_path)\n",
    "    if model_path != '/l/users/santosh.sanjeev/model_soups/final_models/CLIP_wo_mixup/2024-01-07_02-48-23/hparam_2024-01-07_06-45-10/best_checkpoint.pth':\n",
    "        state_dicts_test.append(torch.load(model_path)['model_state'])\n",
    "    else:\n",
    "        state_dicts_test.append(torch.load(model_path, map_location=device)['model'])\n",
    "    model, _ = clip.load('ViT-B/32')\n",
    "    feature_dim = state_dicts_test[-1]['classification_head.weight'].shape[1]\n",
    "    num_classes = state_dicts_test[-1]['classification_head.weight'].shape[0]\n",
    "    normalize = True\n",
    "    model = ModelWrapper(model, feature_dim, num_classes, normalize)\n",
    "    model.load_state_dict(state_dicts_test[-1])\n",
    "    model = model.to(device)\n",
    "    val_accuracy = validate(model)\n",
    "    test_accuracy = test(model)\n",
    "    val_results.append({'Model Name': model_name,\n",
    "                                    'Val Accuracy': val_accuracy})\n",
    "    test_results.append({'Model Name': model_name,\n",
    "                                    'Test Accuracy': test_accuracy})\n",
    "    print(val_accuracy, test_accuracy)\n",
    "\n",
    "results_test_df = pd.DataFrame(test_results)\n",
    "results_val_df = pd.DataFrame(val_results)\n",
    "\n",
    "alphal = [1 / len(state_dicts_test) for i in range(len(state_dicts_test))]\n",
    "model = get_model(state_dicts_test, alphal)\n",
    "print(test(model))"
   ]
  },
  {
   "cell_type": "code",
   "execution_count": 7,
   "metadata": {},
   "outputs": [
    {
     "data": {
      "text/html": [
       "<div>\n",
       "<style scoped>\n",
       "    .dataframe tbody tr th:only-of-type {\n",
       "        vertical-align: middle;\n",
       "    }\n",
       "\n",
       "    .dataframe tbody tr th {\n",
       "        vertical-align: top;\n",
       "    }\n",
       "\n",
       "    .dataframe thead th {\n",
       "        text-align: right;\n",
       "    }\n",
       "</style>\n",
       "<table border=\"1\" class=\"dataframe\">\n",
       "  <thead>\n",
       "    <tr style=\"text-align: right;\">\n",
       "      <th></th>\n",
       "      <th>Model Name</th>\n",
       "      <th>Test Accuracy</th>\n",
       "    </tr>\n",
       "  </thead>\n",
       "  <tbody>\n",
       "    <tr>\n",
       "      <th>0</th>\n",
       "      <td>checkpoint_10.4</td>\n",
       "      <td>0.9650</td>\n",
       "    </tr>\n",
       "    <tr>\n",
       "      <th>1</th>\n",
       "      <td>fge-17</td>\n",
       "      <td>0.9768</td>\n",
       "    </tr>\n",
       "    <tr>\n",
       "      <th>2</th>\n",
       "      <td>fge-19</td>\n",
       "      <td>0.9770</td>\n",
       "    </tr>\n",
       "    <tr>\n",
       "      <th>3</th>\n",
       "      <td>fge-21</td>\n",
       "      <td>0.9770</td>\n",
       "    </tr>\n",
       "    <tr>\n",
       "      <th>4</th>\n",
       "      <td>fge-23</td>\n",
       "      <td>0.9773</td>\n",
       "    </tr>\n",
       "    <tr>\n",
       "      <th>5</th>\n",
       "      <td>fge-25</td>\n",
       "      <td>0.9773</td>\n",
       "    </tr>\n",
       "    <tr>\n",
       "      <th>6</th>\n",
       "      <td>fge-27</td>\n",
       "      <td>0.9774</td>\n",
       "    </tr>\n",
       "    <tr>\n",
       "      <th>7</th>\n",
       "      <td>fge-29</td>\n",
       "      <td>0.9774</td>\n",
       "    </tr>\n",
       "    <tr>\n",
       "      <th>8</th>\n",
       "      <td>fge-31</td>\n",
       "      <td>0.9779</td>\n",
       "    </tr>\n",
       "    <tr>\n",
       "      <th>9</th>\n",
       "      <td>fge-33</td>\n",
       "      <td>0.9779</td>\n",
       "    </tr>\n",
       "    <tr>\n",
       "      <th>10</th>\n",
       "      <td>fge-35</td>\n",
       "      <td>0.9781</td>\n",
       "    </tr>\n",
       "    <tr>\n",
       "      <th>11</th>\n",
       "      <td>fge-37</td>\n",
       "      <td>0.9784</td>\n",
       "    </tr>\n",
       "    <tr>\n",
       "      <th>12</th>\n",
       "      <td>fge-39</td>\n",
       "      <td>0.9780</td>\n",
       "    </tr>\n",
       "  </tbody>\n",
       "</table>\n",
       "</div>"
      ],
      "text/plain": [
       "         Model Name  Test Accuracy\n",
       "0   checkpoint_10.4         0.9650\n",
       "1            fge-17         0.9768\n",
       "2            fge-19         0.9770\n",
       "3            fge-21         0.9770\n",
       "4            fge-23         0.9773\n",
       "5            fge-25         0.9773\n",
       "6            fge-27         0.9774\n",
       "7            fge-29         0.9774\n",
       "8            fge-31         0.9779\n",
       "9            fge-33         0.9779\n",
       "10           fge-35         0.9781\n",
       "11           fge-37         0.9784\n",
       "12           fge-39         0.9780"
      ]
     },
     "execution_count": 7,
     "metadata": {},
     "output_type": "execute_result"
    }
   ],
   "source": [
    "results_test_df"
   ]
  },
  {
   "cell_type": "code",
   "execution_count": 16,
   "metadata": {},
   "outputs": [
    {
     "data": {
      "text/html": [
       "<div>\n",
       "<style scoped>\n",
       "    .dataframe tbody tr th:only-of-type {\n",
       "        vertical-align: middle;\n",
       "    }\n",
       "\n",
       "    .dataframe tbody tr th {\n",
       "        vertical-align: top;\n",
       "    }\n",
       "\n",
       "    .dataframe thead th {\n",
       "        text-align: right;\n",
       "    }\n",
       "</style>\n",
       "<table border=\"1\" class=\"dataframe\">\n",
       "  <thead>\n",
       "    <tr style=\"text-align: right;\">\n",
       "      <th></th>\n",
       "      <th>Model Name</th>\n",
       "      <th>Test Accuracy</th>\n",
       "    </tr>\n",
       "  </thead>\n",
       "  <tbody>\n",
       "    <tr>\n",
       "      <th>0</th>\n",
       "      <td>checkpoint_10.4</td>\n",
       "      <td>0.9650</td>\n",
       "    </tr>\n",
       "    <tr>\n",
       "      <th>1</th>\n",
       "      <td>fge-17</td>\n",
       "      <td>0.9768</td>\n",
       "    </tr>\n",
       "    <tr>\n",
       "      <th>2</th>\n",
       "      <td>fge-19</td>\n",
       "      <td>0.9770</td>\n",
       "    </tr>\n",
       "    <tr>\n",
       "      <th>3</th>\n",
       "      <td>fge-21</td>\n",
       "      <td>0.9770</td>\n",
       "    </tr>\n",
       "    <tr>\n",
       "      <th>4</th>\n",
       "      <td>fge-23</td>\n",
       "      <td>0.9773</td>\n",
       "    </tr>\n",
       "    <tr>\n",
       "      <th>5</th>\n",
       "      <td>fge-25</td>\n",
       "      <td>0.9773</td>\n",
       "    </tr>\n",
       "    <tr>\n",
       "      <th>6</th>\n",
       "      <td>fge-27</td>\n",
       "      <td>0.9774</td>\n",
       "    </tr>\n",
       "    <tr>\n",
       "      <th>7</th>\n",
       "      <td>fge-29</td>\n",
       "      <td>0.9774</td>\n",
       "    </tr>\n",
       "    <tr>\n",
       "      <th>8</th>\n",
       "      <td>fge-31</td>\n",
       "      <td>0.9779</td>\n",
       "    </tr>\n",
       "    <tr>\n",
       "      <th>9</th>\n",
       "      <td>fge-33</td>\n",
       "      <td>0.9779</td>\n",
       "    </tr>\n",
       "    <tr>\n",
       "      <th>10</th>\n",
       "      <td>fge-35</td>\n",
       "      <td>0.9781</td>\n",
       "    </tr>\n",
       "    <tr>\n",
       "      <th>11</th>\n",
       "      <td>fge-37</td>\n",
       "      <td>0.9784</td>\n",
       "    </tr>\n",
       "    <tr>\n",
       "      <th>12</th>\n",
       "      <td>fge-39</td>\n",
       "      <td>0.9780</td>\n",
       "    </tr>\n",
       "  </tbody>\n",
       "</table>\n",
       "</div>"
      ],
      "text/plain": [
       "         Model Name  Test Accuracy\n",
       "0   checkpoint_10.4         0.9650\n",
       "1            fge-17         0.9768\n",
       "2            fge-19         0.9770\n",
       "3            fge-21         0.9770\n",
       "4            fge-23         0.9773\n",
       "5            fge-25         0.9773\n",
       "6            fge-27         0.9774\n",
       "7            fge-29         0.9774\n",
       "8            fge-31         0.9779\n",
       "9            fge-33         0.9779\n",
       "10           fge-35         0.9781\n",
       "11           fge-37         0.9784\n",
       "12           fge-39         0.9780"
      ]
     },
     "execution_count": 16,
     "metadata": {},
     "output_type": "execute_result"
    }
   ],
   "source": [
    "results_test_df"
   ]
  },
  {
   "cell_type": "code",
   "execution_count": 13,
   "metadata": {},
   "outputs": [
    {
     "name": "stdout",
     "output_type": "stream",
     "text": [
      "[0.9717999696731567, 0.9827999472618103, 0.9829999804496765, 0.9827999472618103, 0.9827999472618103, 0.9827999472618103, 0.9835999608039856, 0.9833999872207642, 0.9833999872207642, 0.9833999872207642, 0.983199954032898, 0.9835999608039856, 0.9833999872207642]\n"
     ]
    },
    {
     "data": {
      "application/vnd.jupyter.widget-view+json": {
       "model_id": "a01e283b073d47a9ae27c5c69e7b158e",
       "version_major": 2,
       "version_minor": 0
      },
      "text/plain": [
       "  0%|          | 0/40 [00:00<?, ?it/s]"
      ]
     },
     "metadata": {},
     "output_type": "display_data"
    },
    {
     "name": "stdout",
     "output_type": "stream",
     "text": [
      "Models [6, 11] got 98.33999872207642% on validation.\n"
     ]
    },
    {
     "data": {
      "application/vnd.jupyter.widget-view+json": {
       "model_id": "c13f7fb9016549fcb08e419fe0ba22eb",
       "version_major": 2,
       "version_minor": 0
      },
      "text/plain": [
       "  0%|          | 0/40 [00:00<?, ?it/s]"
      ]
     },
     "metadata": {},
     "output_type": "display_data"
    },
    {
     "name": "stdout",
     "output_type": "stream",
     "text": [
      "Models [6, 7] got 98.35999608039856% on validation.\n"
     ]
    },
    {
     "data": {
      "application/vnd.jupyter.widget-view+json": {
       "model_id": "093e108ffe444edabd74a8161602e9ef",
       "version_major": 2,
       "version_minor": 0
      },
      "text/plain": [
       "  0%|          | 0/40 [00:00<?, ?it/s]"
      ]
     },
     "metadata": {},
     "output_type": "display_data"
    },
    {
     "name": "stdout",
     "output_type": "stream",
     "text": [
      "Models [6, 8] got 98.35999608039856% on validation.\n"
     ]
    },
    {
     "data": {
      "application/vnd.jupyter.widget-view+json": {
       "model_id": "f7659af0c8c84fd090814945d4411a38",
       "version_major": 2,
       "version_minor": 0
      },
      "text/plain": [
       "  0%|          | 0/40 [00:00<?, ?it/s]"
      ]
     },
     "metadata": {},
     "output_type": "display_data"
    },
    {
     "name": "stdout",
     "output_type": "stream",
     "text": [
      "Models [6, 9] got 98.33999872207642% on validation.\n"
     ]
    },
    {
     "data": {
      "application/vnd.jupyter.widget-view+json": {
       "model_id": "c582a5f3468848d790b9d0707d371b90",
       "version_major": 2,
       "version_minor": 0
      },
      "text/plain": [
       "  0%|          | 0/40 [00:00<?, ?it/s]"
      ]
     },
     "metadata": {},
     "output_type": "display_data"
    },
    {
     "name": "stdout",
     "output_type": "stream",
     "text": [
      "Models [6, 12] got 98.33999872207642% on validation.\n"
     ]
    },
    {
     "data": {
      "application/vnd.jupyter.widget-view+json": {
       "model_id": "31913ed0ed9146a1a70f40d86c56bd9a",
       "version_major": 2,
       "version_minor": 0
      },
      "text/plain": [
       "  0%|          | 0/40 [00:00<?, ?it/s]"
      ]
     },
     "metadata": {},
     "output_type": "display_data"
    },
    {
     "name": "stdout",
     "output_type": "stream",
     "text": [
      "Models [6, 10] got 98.33999872207642% on validation.\n"
     ]
    },
    {
     "data": {
      "application/vnd.jupyter.widget-view+json": {
       "model_id": "06982b92d2514cc797908852c00552c7",
       "version_major": 2,
       "version_minor": 0
      },
      "text/plain": [
       "  0%|          | 0/40 [00:00<?, ?it/s]"
      ]
     },
     "metadata": {},
     "output_type": "display_data"
    },
    {
     "name": "stdout",
     "output_type": "stream",
     "text": [
      "Models [6, 2] got 98.27999472618103% on validation.\n"
     ]
    },
    {
     "data": {
      "application/vnd.jupyter.widget-view+json": {
       "model_id": "b496c64e612b47569fa10ba77f2e346f",
       "version_major": 2,
       "version_minor": 0
      },
      "text/plain": [
       "  0%|          | 0/40 [00:00<?, ?it/s]"
      ]
     },
     "metadata": {},
     "output_type": "display_data"
    },
    {
     "name": "stdout",
     "output_type": "stream",
     "text": [
      "Models [6, 1] got 98.24000000953674% on validation.\n"
     ]
    },
    {
     "data": {
      "application/vnd.jupyter.widget-view+json": {
       "model_id": "9849a222805f4e2fa10504cc06c79b28",
       "version_major": 2,
       "version_minor": 0
      },
      "text/plain": [
       "  0%|          | 0/40 [00:00<?, ?it/s]"
      ]
     },
     "metadata": {},
     "output_type": "display_data"
    },
    {
     "name": "stdout",
     "output_type": "stream",
     "text": [
      "Models [6, 3] got 98.27999472618103% on validation.\n"
     ]
    },
    {
     "data": {
      "application/vnd.jupyter.widget-view+json": {
       "model_id": "cf8a291c52424374b0c00ea2eaf40d76",
       "version_major": 2,
       "version_minor": 0
      },
      "text/plain": [
       "  0%|          | 0/40 [00:00<?, ?it/s]"
      ]
     },
     "metadata": {},
     "output_type": "display_data"
    },
    {
     "name": "stdout",
     "output_type": "stream",
     "text": [
      "Models [6, 4] got 98.29999804496765% on validation.\n"
     ]
    },
    {
     "data": {
      "application/vnd.jupyter.widget-view+json": {
       "model_id": "ef4e798103bb42258a761a4c5bb65baf",
       "version_major": 2,
       "version_minor": 0
      },
      "text/plain": [
       "  0%|          | 0/40 [00:00<?, ?it/s]"
      ]
     },
     "metadata": {},
     "output_type": "display_data"
    },
    {
     "name": "stdout",
     "output_type": "stream",
     "text": [
      "Models [6, 5] got 98.29999804496765% on validation.\n"
     ]
    },
    {
     "data": {
      "application/vnd.jupyter.widget-view+json": {
       "model_id": "89e936c29b974e50b05c9918b302c8c9",
       "version_major": 2,
       "version_minor": 0
      },
      "text/plain": [
       "  0%|          | 0/40 [00:00<?, ?it/s]"
      ]
     },
     "metadata": {},
     "output_type": "display_data"
    },
    {
     "name": "stdout",
     "output_type": "stream",
     "text": [
      "Models [6, 0] got 98.33999872207642% on validation.\n"
     ]
    }
   ],
   "source": [
    "ls = list(results_val_df['Val Accuracy'])\n",
    "print(ls)\n",
    "ranked_candidates = [i for i in range(len(state_dicts_test))]\n",
    "ranked_candidates.sort(key=lambda x: -ls[x])\n",
    "\n",
    "current_best = ls[ranked_candidates[0]]\n",
    "best_ingredients = ranked_candidates[:1]\n",
    "for i in range(1, len(state_dicts_test)):\n",
    "  # add current index to the ingredients\n",
    "  ingredient_indices = best_ingredients \\\n",
    "    + [ranked_candidates[i]]\n",
    "  alphal = [0 for i in range(len(state_dicts_test))]\n",
    "  for j in ingredient_indices:\n",
    "    alphal[j] = 1 / len(ingredient_indices)\n",
    "  \n",
    "  # benchmark and conditionally append\n",
    "  model = get_model(state_dicts_test, alphal)\n",
    "  current = validate(model)\n",
    "  print(f'Models {ingredient_indices} got {current*100}% on validation.')\n",
    "  if current > current_best:\n",
    "    current_best = current\n",
    "    best_ingredients = ingredient_indices\n",
    "\n"
   ]
  },
  {
   "cell_type": "markdown",
   "metadata": {},
   "source": [
    "**GREEDY SOUP**"
   ]
  },
  {
   "cell_type": "code",
   "execution_count": 14,
   "metadata": {},
   "outputs": [
    {
     "data": {
      "application/vnd.jupyter.widget-view+json": {
       "model_id": "483430f213e241a78e7fde194e8e0390",
       "version_major": 2,
       "version_minor": 0
      },
      "text/plain": [
       "  0%|          | 0/79 [00:00<?, ?it/s]"
      ]
     },
     "metadata": {},
     "output_type": "display_data"
    }
   ],
   "source": [
    "alphal = [0 for i in range(len(state_dicts_test))]\n",
    "for j in best_ingredients:\n",
    "  alphal[j] = 1 / len(best_ingredients)\n",
    "model = get_model(state_dicts_test, alphal)\n",
    "\n",
    "test_results.append(test(model))"
   ]
  },
  {
   "cell_type": "code",
   "execution_count": 17,
   "metadata": {},
   "outputs": [
    {
     "name": "stdout",
     "output_type": "stream",
     "text": [
      "0.977400004863739\n"
     ]
    }
   ],
   "source": [
    "print(test_results[-1])"
   ]
  },
  {
   "cell_type": "markdown",
   "metadata": {},
   "source": [
    "**FGE of checkpoint_10.1**"
   ]
  },
  {
   "cell_type": "code",
   "execution_count": 18,
   "metadata": {},
   "outputs": [
    {
     "name": "stdout",
     "output_type": "stream",
     "text": [
      "/home/santosh.sanjeev/model-soups/mode-connectivity/NOTEBOOKS/checkpoint_10.1.pt\n"
     ]
    },
    {
     "data": {
      "application/vnd.jupyter.widget-view+json": {
       "model_id": "eb25a9daa2f541c1944e03cd2e875174",
       "version_major": 2,
       "version_minor": 0
      },
      "text/plain": [
       "  0%|          | 0/40 [00:00<?, ?it/s]"
      ]
     },
     "metadata": {},
     "output_type": "display_data"
    },
    {
     "data": {
      "application/vnd.jupyter.widget-view+json": {
       "model_id": "b2fd9eb8ada441e4a63e83ff84d9e9c5",
       "version_major": 2,
       "version_minor": 0
      },
      "text/plain": [
       "  0%|          | 0/79 [00:00<?, ?it/s]"
      ]
     },
     "metadata": {},
     "output_type": "display_data"
    },
    {
     "name": "stdout",
     "output_type": "stream",
     "text": [
      "0.9825999736785889 0.9769999980926514\n",
      "/home/santosh.sanjeev/model-soups/mode-connectivity/mode-connectivity/clipckpt_1_e-5/fge-11.pt\n"
     ]
    },
    {
     "data": {
      "application/vnd.jupyter.widget-view+json": {
       "model_id": "0ee988cfb9964df0921bc430cf57edec",
       "version_major": 2,
       "version_minor": 0
      },
      "text/plain": [
       "  0%|          | 0/40 [00:00<?, ?it/s]"
      ]
     },
     "metadata": {},
     "output_type": "display_data"
    },
    {
     "data": {
      "application/vnd.jupyter.widget-view+json": {
       "model_id": "ce9c9f9804ce454bba469c730b844ddf",
       "version_major": 2,
       "version_minor": 0
      },
      "text/plain": [
       "  0%|          | 0/79 [00:00<?, ?it/s]"
      ]
     },
     "metadata": {},
     "output_type": "display_data"
    },
    {
     "name": "stdout",
     "output_type": "stream",
     "text": [
      "0.9811999797821045 0.9718999862670898\n",
      "/home/santosh.sanjeev/model-soups/mode-connectivity/mode-connectivity/clipckpt_1_e-5/fge-13.pt\n"
     ]
    },
    {
     "data": {
      "application/vnd.jupyter.widget-view+json": {
       "model_id": "16ba37c72654431b973ce0dedb7bc8b8",
       "version_major": 2,
       "version_minor": 0
      },
      "text/plain": [
       "  0%|          | 0/40 [00:00<?, ?it/s]"
      ]
     },
     "metadata": {},
     "output_type": "display_data"
    },
    {
     "data": {
      "application/vnd.jupyter.widget-view+json": {
       "model_id": "872453941d6f402e890d7a9c1ac8fd26",
       "version_major": 2,
       "version_minor": 0
      },
      "text/plain": [
       "  0%|          | 0/79 [00:00<?, ?it/s]"
      ]
     },
     "metadata": {},
     "output_type": "display_data"
    },
    {
     "name": "stdout",
     "output_type": "stream",
     "text": [
      "0.9829999804496765 0.9756999611854553\n",
      "/home/santosh.sanjeev/model-soups/mode-connectivity/mode-connectivity/clipckpt_1_e-5/fge-15.pt\n"
     ]
    },
    {
     "data": {
      "application/vnd.jupyter.widget-view+json": {
       "model_id": "a81b9de269124a259ddc3bf2d858c67a",
       "version_major": 2,
       "version_minor": 0
      },
      "text/plain": [
       "  0%|          | 0/40 [00:00<?, ?it/s]"
      ]
     },
     "metadata": {},
     "output_type": "display_data"
    },
    {
     "data": {
      "application/vnd.jupyter.widget-view+json": {
       "model_id": "8bdc1dc870ee4ae9a0356a277cdc6b8f",
       "version_major": 2,
       "version_minor": 0
      },
      "text/plain": [
       "  0%|          | 0/79 [00:00<?, ?it/s]"
      ]
     },
     "metadata": {},
     "output_type": "display_data"
    },
    {
     "name": "stdout",
     "output_type": "stream",
     "text": [
      "0.9827999472618103 0.9764999747276306\n",
      "/home/santosh.sanjeev/model-soups/mode-connectivity/mode-connectivity/clipckpt_1_e-5/fge-17.pt\n"
     ]
    },
    {
     "data": {
      "application/vnd.jupyter.widget-view+json": {
       "model_id": "0fc723d681254838b896486c33c7cb59",
       "version_major": 2,
       "version_minor": 0
      },
      "text/plain": [
       "  0%|          | 0/40 [00:00<?, ?it/s]"
      ]
     },
     "metadata": {},
     "output_type": "display_data"
    },
    {
     "data": {
      "application/vnd.jupyter.widget-view+json": {
       "model_id": "ab911aa3ed624cf98ea71b742c617432",
       "version_major": 2,
       "version_minor": 0
      },
      "text/plain": [
       "  0%|          | 0/79 [00:00<?, ?it/s]"
      ]
     },
     "metadata": {},
     "output_type": "display_data"
    },
    {
     "name": "stdout",
     "output_type": "stream",
     "text": [
      "0.9829999804496765 0.9765999913215637\n",
      "/home/santosh.sanjeev/model-soups/mode-connectivity/mode-connectivity/clipckpt_1_e-5/fge-19.pt\n"
     ]
    },
    {
     "data": {
      "application/vnd.jupyter.widget-view+json": {
       "model_id": "8e2be02ee1904ebe8a4c4b026be69eb0",
       "version_major": 2,
       "version_minor": 0
      },
      "text/plain": [
       "  0%|          | 0/40 [00:00<?, ?it/s]"
      ]
     },
     "metadata": {},
     "output_type": "display_data"
    },
    {
     "data": {
      "application/vnd.jupyter.widget-view+json": {
       "model_id": "20f7e2c5650e4227aca8f074c2379943",
       "version_major": 2,
       "version_minor": 0
      },
      "text/plain": [
       "  0%|          | 0/79 [00:00<?, ?it/s]"
      ]
     },
     "metadata": {},
     "output_type": "display_data"
    },
    {
     "name": "stdout",
     "output_type": "stream",
     "text": [
      "0.9833999872207642 0.9765999913215637\n",
      "/home/santosh.sanjeev/model-soups/mode-connectivity/mode-connectivity/clipckpt_1_e-5/fge-21.pt\n"
     ]
    },
    {
     "data": {
      "application/vnd.jupyter.widget-view+json": {
       "model_id": "28675273653e44c2b4b466f7f7cbf123",
       "version_major": 2,
       "version_minor": 0
      },
      "text/plain": [
       "  0%|          | 0/40 [00:00<?, ?it/s]"
      ]
     },
     "metadata": {},
     "output_type": "display_data"
    },
    {
     "data": {
      "application/vnd.jupyter.widget-view+json": {
       "model_id": "42c8077334114631b86e172e50ee3470",
       "version_major": 2,
       "version_minor": 0
      },
      "text/plain": [
       "  0%|          | 0/79 [00:00<?, ?it/s]"
      ]
     },
     "metadata": {},
     "output_type": "display_data"
    },
    {
     "name": "stdout",
     "output_type": "stream",
     "text": [
      "0.9833999872207642 0.9763999581336975\n",
      "/home/santosh.sanjeev/model-soups/mode-connectivity/mode-connectivity/clipckpt_1_e-5/fge-23.pt\n"
     ]
    },
    {
     "data": {
      "application/vnd.jupyter.widget-view+json": {
       "model_id": "da88990cd88c4cfabed0af29f23a7d77",
       "version_major": 2,
       "version_minor": 0
      },
      "text/plain": [
       "  0%|          | 0/40 [00:00<?, ?it/s]"
      ]
     },
     "metadata": {},
     "output_type": "display_data"
    },
    {
     "data": {
      "application/vnd.jupyter.widget-view+json": {
       "model_id": "c550792f4fe840bfbabb006db37764cd",
       "version_major": 2,
       "version_minor": 0
      },
      "text/plain": [
       "  0%|          | 0/79 [00:00<?, ?it/s]"
      ]
     },
     "metadata": {},
     "output_type": "display_data"
    },
    {
     "name": "stdout",
     "output_type": "stream",
     "text": [
      "0.9835999608039856 0.9761999845504761\n",
      "/home/santosh.sanjeev/model-soups/mode-connectivity/mode-connectivity/clipckpt_1_e-5/fge-25.pt\n"
     ]
    },
    {
     "data": {
      "application/vnd.jupyter.widget-view+json": {
       "model_id": "62297c44fd554db8925e075278ea70d6",
       "version_major": 2,
       "version_minor": 0
      },
      "text/plain": [
       "  0%|          | 0/40 [00:00<?, ?it/s]"
      ]
     },
     "metadata": {},
     "output_type": "display_data"
    },
    {
     "data": {
      "application/vnd.jupyter.widget-view+json": {
       "model_id": "4e7f65e8405e4b7d82e6feb24b33fc4c",
       "version_major": 2,
       "version_minor": 0
      },
      "text/plain": [
       "  0%|          | 0/79 [00:00<?, ?it/s]"
      ]
     },
     "metadata": {},
     "output_type": "display_data"
    },
    {
     "name": "stdout",
     "output_type": "stream",
     "text": [
      "0.9835999608039856 0.9763999581336975\n",
      "/home/santosh.sanjeev/model-soups/mode-connectivity/mode-connectivity/clipckpt_1_e-5/fge-27.pt\n"
     ]
    },
    {
     "data": {
      "application/vnd.jupyter.widget-view+json": {
       "model_id": "ae4ca8430f784ddd8d7d56108a4f7cd5",
       "version_major": 2,
       "version_minor": 0
      },
      "text/plain": [
       "  0%|          | 0/40 [00:00<?, ?it/s]"
      ]
     },
     "metadata": {},
     "output_type": "display_data"
    },
    {
     "data": {
      "application/vnd.jupyter.widget-view+json": {
       "model_id": "64497093e1dd41539a23068354e2066e",
       "version_major": 2,
       "version_minor": 0
      },
      "text/plain": [
       "  0%|          | 0/79 [00:00<?, ?it/s]"
      ]
     },
     "metadata": {},
     "output_type": "display_data"
    },
    {
     "name": "stdout",
     "output_type": "stream",
     "text": [
      "0.9839999675750732 0.9765999913215637\n",
      "/home/santosh.sanjeev/model-soups/mode-connectivity/mode-connectivity/clipckpt_1_e-5/fge-29.pt\n"
     ]
    },
    {
     "data": {
      "application/vnd.jupyter.widget-view+json": {
       "model_id": "a1d4556ec68e4aaf83ae3df54b3a94e0",
       "version_major": 2,
       "version_minor": 0
      },
      "text/plain": [
       "  0%|          | 0/40 [00:00<?, ?it/s]"
      ]
     },
     "metadata": {},
     "output_type": "display_data"
    },
    {
     "data": {
      "application/vnd.jupyter.widget-view+json": {
       "model_id": "c61890674de54bd79fadae0861e59b3f",
       "version_major": 2,
       "version_minor": 0
      },
      "text/plain": [
       "  0%|          | 0/79 [00:00<?, ?it/s]"
      ]
     },
     "metadata": {},
     "output_type": "display_data"
    },
    {
     "name": "stdout",
     "output_type": "stream",
     "text": [
      "0.9843999743461609 0.9764999747276306\n",
      "/home/santosh.sanjeev/model-soups/mode-connectivity/mode-connectivity/clipckpt_1_e-5/fge-31.pt\n"
     ]
    },
    {
     "data": {
      "application/vnd.jupyter.widget-view+json": {
       "model_id": "0989930b15684a898bfe52c5841c03bd",
       "version_major": 2,
       "version_minor": 0
      },
      "text/plain": [
       "  0%|          | 0/40 [00:00<?, ?it/s]"
      ]
     },
     "metadata": {},
     "output_type": "display_data"
    },
    {
     "data": {
      "application/vnd.jupyter.widget-view+json": {
       "model_id": "d16a58ddfa1c4be985264663130fb736",
       "version_major": 2,
       "version_minor": 0
      },
      "text/plain": [
       "  0%|          | 0/79 [00:00<?, ?it/s]"
      ]
     },
     "metadata": {},
     "output_type": "display_data"
    },
    {
     "name": "stdout",
     "output_type": "stream",
     "text": [
      "0.9843999743461609 0.9764999747276306\n",
      "/home/santosh.sanjeev/model-soups/mode-connectivity/mode-connectivity/clipckpt_1_e-5/fge-33.pt\n"
     ]
    },
    {
     "data": {
      "application/vnd.jupyter.widget-view+json": {
       "model_id": "61ce53f99630483f87dd193cc591d62a",
       "version_major": 2,
       "version_minor": 0
      },
      "text/plain": [
       "  0%|          | 0/40 [00:00<?, ?it/s]"
      ]
     },
     "metadata": {},
     "output_type": "display_data"
    },
    {
     "data": {
      "application/vnd.jupyter.widget-view+json": {
       "model_id": "d8585b8422a54f6ca6e120b996fc5654",
       "version_major": 2,
       "version_minor": 0
      },
      "text/plain": [
       "  0%|          | 0/79 [00:00<?, ?it/s]"
      ]
     },
     "metadata": {},
     "output_type": "display_data"
    },
    {
     "name": "stdout",
     "output_type": "stream",
     "text": [
      "0.9845999479293823 0.9764999747276306\n",
      "/home/santosh.sanjeev/model-soups/mode-connectivity/mode-connectivity/clipckpt_1_e-5/fge-35.pt\n"
     ]
    },
    {
     "data": {
      "application/vnd.jupyter.widget-view+json": {
       "model_id": "33239a1ef322420a8302605ca51cfda0",
       "version_major": 2,
       "version_minor": 0
      },
      "text/plain": [
       "  0%|          | 0/40 [00:00<?, ?it/s]"
      ]
     },
     "metadata": {},
     "output_type": "display_data"
    },
    {
     "data": {
      "application/vnd.jupyter.widget-view+json": {
       "model_id": "555a32627f724c5aaa9df462d68601e3",
       "version_major": 2,
       "version_minor": 0
      },
      "text/plain": [
       "  0%|          | 0/79 [00:00<?, ?it/s]"
      ]
     },
     "metadata": {},
     "output_type": "display_data"
    },
    {
     "name": "stdout",
     "output_type": "stream",
     "text": [
      "0.9845999479293823 0.9765999913215637\n",
      "/home/santosh.sanjeev/model-soups/mode-connectivity/mode-connectivity/clipckpt_1_e-5/fge-37.pt\n"
     ]
    },
    {
     "data": {
      "application/vnd.jupyter.widget-view+json": {
       "model_id": "6447f607ec5e4a7abae4e64dc33e45be",
       "version_major": 2,
       "version_minor": 0
      },
      "text/plain": [
       "  0%|          | 0/40 [00:00<?, ?it/s]"
      ]
     },
     "metadata": {},
     "output_type": "display_data"
    },
    {
     "data": {
      "application/vnd.jupyter.widget-view+json": {
       "model_id": "3133b65bdc9448b4a0ce73bca9cce697",
       "version_major": 2,
       "version_minor": 0
      },
      "text/plain": [
       "  0%|          | 0/79 [00:00<?, ?it/s]"
      ]
     },
     "metadata": {},
     "output_type": "display_data"
    },
    {
     "name": "stdout",
     "output_type": "stream",
     "text": [
      "0.9845999479293823 0.9765999913215637\n",
      "/home/santosh.sanjeev/model-soups/mode-connectivity/mode-connectivity/clipckpt_1_e-5/fge-39.pt\n"
     ]
    },
    {
     "data": {
      "application/vnd.jupyter.widget-view+json": {
       "model_id": "96e987e032fd43158a6132d083908872",
       "version_major": 2,
       "version_minor": 0
      },
      "text/plain": [
       "  0%|          | 0/40 [00:00<?, ?it/s]"
      ]
     },
     "metadata": {},
     "output_type": "display_data"
    },
    {
     "data": {
      "application/vnd.jupyter.widget-view+json": {
       "model_id": "716e039da6b84cf2b97fe38d128ad7ef",
       "version_major": 2,
       "version_minor": 0
      },
      "text/plain": [
       "  0%|          | 0/79 [00:00<?, ?it/s]"
      ]
     },
     "metadata": {},
     "output_type": "display_data"
    },
    {
     "name": "stdout",
     "output_type": "stream",
     "text": [
      "0.9847999811172485 0.9764999747276306\n"
     ]
    },
    {
     "data": {
      "application/vnd.jupyter.widget-view+json": {
       "model_id": "8117690f1e064ecda407c40827885ab6",
       "version_major": 2,
       "version_minor": 0
      },
      "text/plain": [
       "  0%|          | 0/79 [00:00<?, ?it/s]"
      ]
     },
     "metadata": {},
     "output_type": "display_data"
    },
    {
     "name": "stdout",
     "output_type": "stream",
     "text": [
      "0.9768999814987183\n"
     ]
    }
   ],
   "source": [
    "\n",
    "model_paths = [ '/home/santosh.sanjeev/model-soups/mode-connectivity/NOTEBOOKS/checkpoint_10.1.pt', \\\n",
    "                '/home/santosh.sanjeev/model-soups/mode-connectivity/mode-connectivity/clipckpt_1_e-5/fge-11.pt', \\\n",
    "                '/home/santosh.sanjeev/model-soups/mode-connectivity/mode-connectivity/clipckpt_1_e-5/fge-13.pt', \\\n",
    "                '/home/santosh.sanjeev/model-soups/mode-connectivity/mode-connectivity/clipckpt_1_e-5/fge-15.pt', \\\n",
    "                '/home/santosh.sanjeev/model-soups/mode-connectivity/mode-connectivity/clipckpt_1_e-5/fge-17.pt', \\\n",
    "                '/home/santosh.sanjeev/model-soups/mode-connectivity/mode-connectivity/clipckpt_1_e-5/fge-19.pt', \\\n",
    "                '/home/santosh.sanjeev/model-soups/mode-connectivity/mode-connectivity/clipckpt_1_e-5/fge-21.pt', \\\n",
    "                '/home/santosh.sanjeev/model-soups/mode-connectivity/mode-connectivity/clipckpt_1_e-5/fge-23.pt', \\\n",
    "                '/home/santosh.sanjeev/model-soups/mode-connectivity/mode-connectivity/clipckpt_1_e-5/fge-25.pt', \\\n",
    "                '/home/santosh.sanjeev/model-soups/mode-connectivity/mode-connectivity/clipckpt_1_e-5/fge-27.pt', \\\n",
    "                '/home/santosh.sanjeev/model-soups/mode-connectivity/mode-connectivity/clipckpt_1_e-5/fge-29.pt', \\\n",
    "                '/home/santosh.sanjeev/model-soups/mode-connectivity/mode-connectivity/clipckpt_1_e-5/fge-31.pt', \\\n",
    "                '/home/santosh.sanjeev/model-soups/mode-connectivity/mode-connectivity/clipckpt_1_e-5/fge-33.pt', \\\n",
    "                '/home/santosh.sanjeev/model-soups/mode-connectivity/mode-connectivity/clipckpt_1_e-5/fge-35.pt', \\\n",
    "                '/home/santosh.sanjeev/model-soups/mode-connectivity/mode-connectivity/clipckpt_1_e-5/fge-37.pt', \\\n",
    "                '/home/santosh.sanjeev/model-soups/mode-connectivity/mode-connectivity/clipckpt_1_e-5/fge-39.pt', \\\n",
    "                ]#, '/home/santosh.sanjeev/model-soups/my_soups/checkpoints/grid_models/cnn_v1/model_7.pth','/home/santosh.sanjeev/model-soups/my_soups/checkpoints/grid_models/cnn_v1/model_7.pth']#, '/home/santosh.sanjeev/model-soups/my_soups/checkpoints/grid_models/model_1.pth']\n",
    "\n",
    "model_names = [os.path.splitext(os.path.basename(path))[0] for path in model_paths]\n",
    "\n",
    "device = 'cuda'\n",
    "state_dicts_test = []\n",
    "val_results = []\n",
    "test_results = []\n",
    "for model_path, model_name in zip(model_paths, model_names):\n",
    "    print(model_path)\n",
    "    checkpoint = torch.load(model_path)\n",
    "    if model_path != '/home/santosh.sanjeev/model-soups/mode-connectivity/NOTEBOOKS/checkpoint_10.1.pt':\n",
    "        state_dicts_test.append(torch.load(model_path)['model_state'])\n",
    "    else:\n",
    "        state_dicts_test.append(torch.load(model_path, map_location=device))\n",
    "    model, _ = clip.load('ViT-B/32')\n",
    "    feature_dim = state_dicts_test[-1]['classification_head.weight'].shape[1]\n",
    "    num_classes = state_dicts_test[-1]['classification_head.weight'].shape[0]\n",
    "    normalize = True\n",
    "    model = ModelWrapper(model, feature_dim, num_classes, normalize)\n",
    "    model.load_state_dict(state_dicts_test[-1])\n",
    "    model = model.to(device)\n",
    "    val_accuracy = validate(model)\n",
    "    test_accuracy = test(model)\n",
    "    val_results.append({'Model Name': model_name,\n",
    "                                    'Val Accuracy': val_accuracy})\n",
    "    test_results.append({'Model Name': model_name,\n",
    "                                    'Test Accuracy': test_accuracy})\n",
    "    print(val_accuracy, test_accuracy)\n",
    "\n",
    "results_test_df = pd.DataFrame(test_results)\n",
    "results_val_df = pd.DataFrame(val_results)\n",
    "\n",
    "alphal = [1 / len(state_dicts_test) for i in range(len(state_dicts_test))]\n",
    "model = get_model(state_dicts_test, alphal)\n",
    "print(test(model))"
   ]
  },
  {
   "cell_type": "code",
   "execution_count": 19,
   "metadata": {},
   "outputs": [
    {
     "data": {
      "text/html": [
       "<div>\n",
       "<style scoped>\n",
       "    .dataframe tbody tr th:only-of-type {\n",
       "        vertical-align: middle;\n",
       "    }\n",
       "\n",
       "    .dataframe tbody tr th {\n",
       "        vertical-align: top;\n",
       "    }\n",
       "\n",
       "    .dataframe thead th {\n",
       "        text-align: right;\n",
       "    }\n",
       "</style>\n",
       "<table border=\"1\" class=\"dataframe\">\n",
       "  <thead>\n",
       "    <tr style=\"text-align: right;\">\n",
       "      <th></th>\n",
       "      <th>Model Name</th>\n",
       "      <th>Test Accuracy</th>\n",
       "    </tr>\n",
       "  </thead>\n",
       "  <tbody>\n",
       "    <tr>\n",
       "      <th>0</th>\n",
       "      <td>checkpoint_10.1</td>\n",
       "      <td>0.9770</td>\n",
       "    </tr>\n",
       "    <tr>\n",
       "      <th>1</th>\n",
       "      <td>fge-11</td>\n",
       "      <td>0.9719</td>\n",
       "    </tr>\n",
       "    <tr>\n",
       "      <th>2</th>\n",
       "      <td>fge-13</td>\n",
       "      <td>0.9757</td>\n",
       "    </tr>\n",
       "    <tr>\n",
       "      <th>3</th>\n",
       "      <td>fge-15</td>\n",
       "      <td>0.9765</td>\n",
       "    </tr>\n",
       "    <tr>\n",
       "      <th>4</th>\n",
       "      <td>fge-17</td>\n",
       "      <td>0.9766</td>\n",
       "    </tr>\n",
       "    <tr>\n",
       "      <th>5</th>\n",
       "      <td>fge-19</td>\n",
       "      <td>0.9766</td>\n",
       "    </tr>\n",
       "    <tr>\n",
       "      <th>6</th>\n",
       "      <td>fge-21</td>\n",
       "      <td>0.9764</td>\n",
       "    </tr>\n",
       "    <tr>\n",
       "      <th>7</th>\n",
       "      <td>fge-23</td>\n",
       "      <td>0.9762</td>\n",
       "    </tr>\n",
       "    <tr>\n",
       "      <th>8</th>\n",
       "      <td>fge-25</td>\n",
       "      <td>0.9764</td>\n",
       "    </tr>\n",
       "    <tr>\n",
       "      <th>9</th>\n",
       "      <td>fge-27</td>\n",
       "      <td>0.9766</td>\n",
       "    </tr>\n",
       "    <tr>\n",
       "      <th>10</th>\n",
       "      <td>fge-29</td>\n",
       "      <td>0.9765</td>\n",
       "    </tr>\n",
       "    <tr>\n",
       "      <th>11</th>\n",
       "      <td>fge-31</td>\n",
       "      <td>0.9765</td>\n",
       "    </tr>\n",
       "    <tr>\n",
       "      <th>12</th>\n",
       "      <td>fge-33</td>\n",
       "      <td>0.9765</td>\n",
       "    </tr>\n",
       "    <tr>\n",
       "      <th>13</th>\n",
       "      <td>fge-35</td>\n",
       "      <td>0.9766</td>\n",
       "    </tr>\n",
       "    <tr>\n",
       "      <th>14</th>\n",
       "      <td>fge-37</td>\n",
       "      <td>0.9766</td>\n",
       "    </tr>\n",
       "    <tr>\n",
       "      <th>15</th>\n",
       "      <td>fge-39</td>\n",
       "      <td>0.9765</td>\n",
       "    </tr>\n",
       "  </tbody>\n",
       "</table>\n",
       "</div>"
      ],
      "text/plain": [
       "         Model Name  Test Accuracy\n",
       "0   checkpoint_10.1         0.9770\n",
       "1            fge-11         0.9719\n",
       "2            fge-13         0.9757\n",
       "3            fge-15         0.9765\n",
       "4            fge-17         0.9766\n",
       "5            fge-19         0.9766\n",
       "6            fge-21         0.9764\n",
       "7            fge-23         0.9762\n",
       "8            fge-25         0.9764\n",
       "9            fge-27         0.9766\n",
       "10           fge-29         0.9765\n",
       "11           fge-31         0.9765\n",
       "12           fge-33         0.9765\n",
       "13           fge-35         0.9766\n",
       "14           fge-37         0.9766\n",
       "15           fge-39         0.9765"
      ]
     },
     "execution_count": 19,
     "metadata": {},
     "output_type": "execute_result"
    }
   ],
   "source": [
    "results_test_df"
   ]
  },
  {
   "cell_type": "code",
   "execution_count": 20,
   "metadata": {},
   "outputs": [
    {
     "data": {
      "text/html": [
       "<div>\n",
       "<style scoped>\n",
       "    .dataframe tbody tr th:only-of-type {\n",
       "        vertical-align: middle;\n",
       "    }\n",
       "\n",
       "    .dataframe tbody tr th {\n",
       "        vertical-align: top;\n",
       "    }\n",
       "\n",
       "    .dataframe thead th {\n",
       "        text-align: right;\n",
       "    }\n",
       "</style>\n",
       "<table border=\"1\" class=\"dataframe\">\n",
       "  <thead>\n",
       "    <tr style=\"text-align: right;\">\n",
       "      <th></th>\n",
       "      <th>Model Name</th>\n",
       "      <th>Val Accuracy</th>\n",
       "    </tr>\n",
       "  </thead>\n",
       "  <tbody>\n",
       "    <tr>\n",
       "      <th>0</th>\n",
       "      <td>checkpoint_10.1</td>\n",
       "      <td>0.9826</td>\n",
       "    </tr>\n",
       "    <tr>\n",
       "      <th>1</th>\n",
       "      <td>fge-11</td>\n",
       "      <td>0.9812</td>\n",
       "    </tr>\n",
       "    <tr>\n",
       "      <th>2</th>\n",
       "      <td>fge-13</td>\n",
       "      <td>0.9830</td>\n",
       "    </tr>\n",
       "    <tr>\n",
       "      <th>3</th>\n",
       "      <td>fge-15</td>\n",
       "      <td>0.9828</td>\n",
       "    </tr>\n",
       "    <tr>\n",
       "      <th>4</th>\n",
       "      <td>fge-17</td>\n",
       "      <td>0.9830</td>\n",
       "    </tr>\n",
       "    <tr>\n",
       "      <th>5</th>\n",
       "      <td>fge-19</td>\n",
       "      <td>0.9834</td>\n",
       "    </tr>\n",
       "    <tr>\n",
       "      <th>6</th>\n",
       "      <td>fge-21</td>\n",
       "      <td>0.9834</td>\n",
       "    </tr>\n",
       "    <tr>\n",
       "      <th>7</th>\n",
       "      <td>fge-23</td>\n",
       "      <td>0.9836</td>\n",
       "    </tr>\n",
       "    <tr>\n",
       "      <th>8</th>\n",
       "      <td>fge-25</td>\n",
       "      <td>0.9836</td>\n",
       "    </tr>\n",
       "    <tr>\n",
       "      <th>9</th>\n",
       "      <td>fge-27</td>\n",
       "      <td>0.9840</td>\n",
       "    </tr>\n",
       "    <tr>\n",
       "      <th>10</th>\n",
       "      <td>fge-29</td>\n",
       "      <td>0.9844</td>\n",
       "    </tr>\n",
       "    <tr>\n",
       "      <th>11</th>\n",
       "      <td>fge-31</td>\n",
       "      <td>0.9844</td>\n",
       "    </tr>\n",
       "    <tr>\n",
       "      <th>12</th>\n",
       "      <td>fge-33</td>\n",
       "      <td>0.9846</td>\n",
       "    </tr>\n",
       "    <tr>\n",
       "      <th>13</th>\n",
       "      <td>fge-35</td>\n",
       "      <td>0.9846</td>\n",
       "    </tr>\n",
       "    <tr>\n",
       "      <th>14</th>\n",
       "      <td>fge-37</td>\n",
       "      <td>0.9846</td>\n",
       "    </tr>\n",
       "    <tr>\n",
       "      <th>15</th>\n",
       "      <td>fge-39</td>\n",
       "      <td>0.9848</td>\n",
       "    </tr>\n",
       "  </tbody>\n",
       "</table>\n",
       "</div>"
      ],
      "text/plain": [
       "         Model Name  Val Accuracy\n",
       "0   checkpoint_10.1        0.9826\n",
       "1            fge-11        0.9812\n",
       "2            fge-13        0.9830\n",
       "3            fge-15        0.9828\n",
       "4            fge-17        0.9830\n",
       "5            fge-19        0.9834\n",
       "6            fge-21        0.9834\n",
       "7            fge-23        0.9836\n",
       "8            fge-25        0.9836\n",
       "9            fge-27        0.9840\n",
       "10           fge-29        0.9844\n",
       "11           fge-31        0.9844\n",
       "12           fge-33        0.9846\n",
       "13           fge-35        0.9846\n",
       "14           fge-37        0.9846\n",
       "15           fge-39        0.9848"
      ]
     },
     "execution_count": 20,
     "metadata": {},
     "output_type": "execute_result"
    }
   ],
   "source": [
    "results_val_df"
   ]
  },
  {
   "cell_type": "code",
   "execution_count": null,
   "metadata": {},
   "outputs": [],
   "source": [
    "ls = list(results_val_df['Val Accuracy'])\n",
    "print(ls)\n",
    "ranked_candidates = [i for i in range(len(state_dicts_test))]\n",
    "ranked_candidates.sort(key=lambda x: -ls[x])\n",
    "\n",
    "current_best = ls[ranked_candidates[0]]\n",
    "best_ingredients = ranked_candidates[:1]\n",
    "for i in range(1, len(state_dicts_test)):\n",
    "  # add current index to the ingredients\n",
    "  ingredient_indices = best_ingredients \\\n",
    "    + [ranked_candidates[i]]\n",
    "  alphal = [0 for i in range(len(state_dicts_test))]\n",
    "  for j in ingredient_indices:\n",
    "    alphal[j] = 1 / len(ingredient_indices)\n",
    "  \n",
    "  # benchmark and conditionally append\n",
    "  model = get_model(state_dicts_test, alphal)\n",
    "  current = validate(model)\n",
    "  print(f'Models {ingredient_indices} got {current*100}% on validation.')\n",
    "  if current > current_best:\n",
    "    current_best = current\n",
    "    best_ingredients = ingredient_indices\n",
    "\n"
   ]
  },
  {
   "cell_type": "markdown",
   "metadata": {},
   "source": [
    "**GREEDY SOUP**"
   ]
  },
  {
   "cell_type": "code",
   "execution_count": 21,
   "metadata": {},
   "outputs": [
    {
     "data": {
      "application/vnd.jupyter.widget-view+json": {
       "model_id": "36c37b8c09754680bf28c7acca798581",
       "version_major": 2,
       "version_minor": 0
      },
      "text/plain": [
       "  0%|          | 0/79 [00:00<?, ?it/s]"
      ]
     },
     "metadata": {},
     "output_type": "display_data"
    },
    {
     "name": "stdout",
     "output_type": "stream",
     "text": [
      "0.9763999581336975\n"
     ]
    }
   ],
   "source": [
    "alphal = [0 for i in range(len(state_dicts_test))]\n",
    "for j in best_ingredients:\n",
    "  alphal[j] = 1 / len(best_ingredients)\n",
    "model = get_model(state_dicts_test, alphal)\n",
    "\n",
    "test_results.append(test(model))\n",
    "print(test_results[-1])"
   ]
  }
 ],
 "metadata": {
  "kernelspec": {
   "display_name": "model_soups",
   "language": "python",
   "name": "python3"
  },
  "language_info": {
   "codemirror_mode": {
    "name": "ipython",
    "version": 3
   },
   "file_extension": ".py",
   "mimetype": "text/x-python",
   "name": "python",
   "nbconvert_exporter": "python",
   "pygments_lexer": "ipython3",
   "version": "3.8.18"
  }
 },
 "nbformat": 4,
 "nbformat_minor": 2
}
